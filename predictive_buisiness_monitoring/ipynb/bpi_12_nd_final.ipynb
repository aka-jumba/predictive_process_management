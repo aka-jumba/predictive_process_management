{
  "nbformat": 4,
  "nbformat_minor": 0,
  "metadata": {
    "colab": {
      "name": "bpi_12_nd_final.ipynb",
      "version": "0.3.2",
      "provenance": [],
      "collapsed_sections": []
    },
    "kernelspec": {
      "name": "python3",
      "display_name": "Python 3"
    }
  },
  "cells": [
    {
      "cell_type": "code",
      "metadata": {
        "id": "XsWjQ2Ts-C1_",
        "colab_type": "code",
        "colab": {
          "base_uri": "https://localhost:8080/",
          "height": 34
        },
        "outputId": "236b9dc6-cc28-4f9f-a83a-297b2c2340f8"
      },
      "source": [
        "import pandas as pd\n",
        "import numpy as np\n",
        "import keras\n",
        "from keras.preprocessing.sequence import pad_sequences\n",
        "from keras.models import Sequential\n",
        "from keras.layers import Dense, Embedding, LSTM, Dropout, Activation, Flatten\n",
        "from sklearn.model_selection import train_test_split\n",
        "from keras.utils.np_utils import to_categorical\n",
        "from keras.layers.normalization import BatchNormalization"
      ],
      "execution_count": 1,
      "outputs": [
        {
          "output_type": "stream",
          "text": [
            "Using TensorFlow backend.\n"
          ],
          "name": "stderr"
        }
      ]
    },
    {
      "cell_type": "code",
      "metadata": {
        "id": "gJt5CBKp-VMl",
        "colab_type": "code",
        "colab": {}
      },
      "source": [
        "import sklearn\n",
        "from sklearn.utils import shuffle\n",
        "from datetime import datetime\n",
        "from datetime import timedelta\n",
        "from sklearn.preprocessing import MinMaxScaler,StandardScaler\n",
        "from scipy import stats\n",
        "import matplotlib.pyplot as plt\n",
        "from IPython.display import clear_output"
      ],
      "execution_count": 0,
      "outputs": []
    },
    {
      "cell_type": "code",
      "metadata": {
        "id": "K0v8hR2v-WwN",
        "colab_type": "code",
        "colab": {}
      },
      "source": [
        "#import the csv\n",
        "data = pd.read_csv('bpi_12_w_no_repeat.csv')\n",
        "# np.sum(data.isna())\n"
      ],
      "execution_count": 0,
      "outputs": []
    },
    {
      "cell_type": "code",
      "metadata": {
        "id": "NqNKCf-900Vu",
        "colab_type": "code",
        "colab": {}
      },
      "source": [
        "#to make the caseID start from zero\n",
        "data['CaseID'] = data['CaseID'] - 173688 "
      ],
      "execution_count": 0,
      "outputs": []
    },
    {
      "cell_type": "code",
      "metadata": {
        "id": "YjGyYOcV-xFc",
        "colab_type": "code",
        "colab": {}
      },
      "source": [
        "#given the caseID, array 'numarray' outputs the number of events in  that particular caseID trace.\n",
        "caseS = pd.Series(data['CaseID'] )\n",
        "numarray = caseS.value_counts()"
      ],
      "execution_count": 0,
      "outputs": []
    },
    {
      "cell_type": "code",
      "metadata": {
        "id": "bWBzAd2ojS_M",
        "colab_type": "code",
        "outputId": "f926d348-d205-4cf4-a518-e43db6f12fcd",
        "colab": {
          "base_uri": "https://localhost:8080/",
          "height": 34
        }
      },
      "source": [
        "# outputs the number of traces where the number of events in the particular trace is the index of below Series(CaseID).\n",
        "numcaseID = pd.value_counts(data['CaseID']).value_counts()\n",
        "maxlen = max(numcaseID.index)\n",
        "maxlen"
      ],
      "execution_count": 6,
      "outputs": [
        {
          "output_type": "execute_result",
          "data": {
            "text/plain": [
              "13"
            ]
          },
          "metadata": {
            "tags": []
          },
          "execution_count": 6
        }
      ]
    },
    {
      "cell_type": "code",
      "metadata": {
        "id": "-QJoB2XnAXf7",
        "colab_type": "code",
        "outputId": "9bdb3674-3df8-4515-bca0-9687325f6c3a",
        "colab": {
          "base_uri": "https://localhost:8080/",
          "height": 34
        }
      },
      "source": [
        "actS = pd.Series(data['ActivityID'] )\n",
        "actS.value_counts()\n",
        "classes = actS.max()\n",
        "#zero will be for end of trace\n",
        "print(\"number of classes(zero not included which will be denoted later as end of trace) :\" +str(classes))"
      ],
      "execution_count": 7,
      "outputs": [
        {
          "output_type": "stream",
          "text": [
            "number of classes(zero not included which will be denoted later as end of trace) :6\n"
          ],
          "name": "stdout"
        }
      ]
    },
    {
      "cell_type": "code",
      "metadata": {
        "id": "Ii9SlkL54mJ-",
        "colab_type": "code",
        "colab": {}
      },
      "source": [
        "#converting it into datetime datatype of pandas for easy access of date, time and other operations.\n",
        "data['datetime'] = pd.to_datetime(data['CompleteTimestamp'])\n",
        "data.drop(['CompleteTimestamp'], axis=1, inplace=True)\n",
        "# data.head()"
      ],
      "execution_count": 0,
      "outputs": []
    },
    {
      "cell_type": "code",
      "metadata": {
        "id": "2LqZRI5hMKdv",
        "colab_type": "code",
        "colab": {}
      },
      "source": [
        "#set finds the unique numbers in caseID i.e list all the unique caseIDs.\n",
        "ca_uni = list(set(data['CaseID'].values))\n",
        "# len(ca_uni)"
      ],
      "execution_count": 0,
      "outputs": []
    },
    {
      "cell_type": "code",
      "metadata": {
        "id": "BW-eRF9z-iLc",
        "colab_type": "code",
        "colab": {}
      },
      "source": [
        "#datetime is shifted to find elapsed or concerned type of time further down the line.\n",
        "data['dapa'] = data['datetime'].shift(1)\n",
        "# data.head()"
      ],
      "execution_count": 0,
      "outputs": []
    },
    {
      "cell_type": "code",
      "metadata": {
        "id": "6mYp_jqwVlkQ",
        "colab_type": "code",
        "colab": {}
      },
      "source": [
        "#difference of datetime is timedelta type in pandas which has a function called .total_seconds()\n",
        "data['elapsed'] = data['datetime'] - data['dapa']\n",
        "elapsec = [x.total_seconds() for x in data['elapsed'] ]\n",
        "data['elap'] = elapsec\n",
        "data.drop(columns=['elapsed','dapa'],inplace = True)\n",
        "# data.head(50)\n"
      ],
      "execution_count": 0,
      "outputs": []
    },
    {
      "cell_type": "code",
      "metadata": {
        "id": "5fc51bd-GT1Z",
        "colab_type": "code",
        "colab": {}
      },
      "source": [
        "#case at all times denote the index of data panda, and ca_uni contains unique caseIDs, we increment case with a[i] amount i.e the number of events in that particular trace denoted by i (element of ca_uni).\n",
        "case = 0\n",
        "for i in ca_uni:\n",
        "  data.loc[case,'elap'] = 0\n",
        "  case += numarray[ i ]\n",
        "  \n",
        "# data.head(10)\n",
        "  \n",
        "  "
      ],
      "execution_count": 0,
      "outputs": []
    },
    {
      "cell_type": "code",
      "metadata": {
        "id": "pR9I43fq006x",
        "colab_type": "code",
        "colab": {}
      },
      "source": [
        "#converted the seconds into days\n",
        "lis = [(x.hour*3600 + x.minute*60 + x.second) for x in data['datetime']]\n",
        "data['from_midnight']  =lis\n",
        "# data.head()"
      ],
      "execution_count": 0,
      "outputs": []
    },
    {
      "cell_type": "code",
      "metadata": {
        "id": "DCcIIduH41rU",
        "colab_type": "code",
        "colab": {}
      },
      "source": [
        "#we notice by below graphs that most stuff happened during the evening/night\n",
        "# data['from_midnight'].hist()"
      ],
      "execution_count": 0,
      "outputs": []
    },
    {
      "cell_type": "code",
      "metadata": {
        "id": "l0jFVpve6DN-",
        "colab_type": "code",
        "colab": {}
      },
      "source": [
        "#we find the from_midnight and from_sun attributes using .weekday function of datetime object and converted everything into time(days) scale.\n",
        "li = [x.weekday()*86400 for x in data['datetime']]\n",
        "data['from_sun'] = li\n",
        "data['from_sun'] = (data['from_sun'] +  data['from_midnight'])/86400\n",
        "data['from_midnight'] = (data['from_midnight'])/86400\n",
        "data['elap'] = (data['elap'])/86400\n",
        "# data.head()"
      ],
      "execution_count": 0,
      "outputs": []
    },
    {
      "cell_type": "code",
      "metadata": {
        "id": "YrJCH2fqAfhF",
        "colab_type": "code",
        "colab": {}
      },
      "source": [
        "#we see that no event occurred on Sunday and least events happenned on Tuesday most on Monday.\n",
        "#data['from_sun'].hist()"
      ],
      "execution_count": 0,
      "outputs": []
    },
    {
      "cell_type": "code",
      "metadata": {
        "id": "pb6mSz008jYc",
        "colab_type": "code",
        "outputId": "79ae3a70-c1d6-4fbe-b3db-e9458df75766",
        "colab": {
          "base_uri": "https://localhost:8080/",
          "height": 187
        }
      },
      "source": [
        "print(\"Below is the compilation of information of all the data we conjured.\")\n",
        "print(data.describe())"
      ],
      "execution_count": 17,
      "outputs": [
        {
          "output_type": "stream",
          "text": [
            "Below is the compilation of information of all the data we conjured.\n",
            "             CaseID    ActivityID          elap  from_midnight      from_sun\n",
            "count  29410.000000  29410.000000  29410.000000   29410.000000  29410.000000\n",
            "mean   20374.844747      3.782013      0.030041       0.577610      3.053570\n",
            "std    11782.888965      1.697673     10.626620       0.366810      1.614895\n",
            "min        0.000000      1.000000    -85.836424       0.000012      0.284398\n",
            "25%     9744.000000      3.000000      0.000000       0.160856      1.778605\n",
            "50%    20872.500000      4.000000      0.000000       0.773119      2.958785\n",
            "75%    30603.500000      5.000000      0.672925       0.875720      4.200752\n",
            "max    40688.000000      6.000000     89.548322       0.999988      6.955370\n"
          ],
          "name": "stdout"
        }
      ]
    },
    {
      "cell_type": "code",
      "metadata": {
        "id": "C0ZmzTHU87fL",
        "colab_type": "code",
        "colab": {}
      },
      "source": [
        "# data.head()"
      ],
      "execution_count": 0,
      "outputs": []
    },
    {
      "cell_type": "code",
      "metadata": {
        "id": "_LtwO-goVx21",
        "colab_type": "code",
        "outputId": "93e76037-6c6d-4007-ac32-6ebe29af46bf",
        "colab": {
          "base_uri": "https://localhost:8080/",
          "height": 136
        }
      },
      "source": [
        "# data.head(10)\n",
        "data.describe()\n",
        "# we see below if any null values are there, the results were zero in all the columns\n",
        "np.sum(data.isna())"
      ],
      "execution_count": 19,
      "outputs": [
        {
          "output_type": "execute_result",
          "data": {
            "text/plain": [
              "CaseID           0\n",
              "ActivityID       0\n",
              "datetime         0\n",
              "elap             0\n",
              "from_midnight    0\n",
              "from_sun         0\n",
              "dtype: int64"
            ]
          },
          "metadata": {
            "tags": []
          },
          "execution_count": 19
        }
      ]
    },
    {
      "cell_type": "code",
      "metadata": {
        "id": "aNYWt7APuAwg",
        "colab_type": "code",
        "colab": {}
      },
      "source": [
        "#gcid denotes the group number categorized according to the caseID or the trace number.\n",
        "gcid = data.groupby('CaseID')\n"
      ],
      "execution_count": 0,
      "outputs": []
    },
    {
      "cell_type": "code",
      "metadata": {
        "id": "QQCBIC4puX8A",
        "colab_type": "code",
        "colab": {}
      },
      "source": [
        "#categorizing the data by individual traces\n",
        "act = []#contains all the events of a particular trace as one element.\n",
        "time = []#contains timestamp of all events of a particular trace as one element\n",
        "ofea = []#contains ofea(other features) like elapsed time, time from midnight, time from last sunday of all traces as one element\n",
        "for cid in ca_uni:\n",
        "  temp = gcid.get_group(cid)\n",
        "  act.append(temp['ActivityID'].values)\n",
        "  time.append(temp['datetime'].values)\n",
        "  ofea.append(temp[['elap','from_midnight','from_sun']].values)\n"
      ],
      "execution_count": 0,
      "outputs": []
    },
    {
      "cell_type": "code",
      "metadata": {
        "id": "7VFSd_5uvqa-",
        "colab_type": "code",
        "colab": {}
      },
      "source": [
        "#padding the above arrays with the maximum number of events possible in our dataset which is 13 i.e maximum of 13 element was found in a trace\n",
        "padded_act = pad_sequences(act, padding = \"post\", maxlen = maxlen)\n",
        "padded_time = pad_sequences(time, padding = \"post\", maxlen = maxlen, dtype = 'datetime64[ns]')\n",
        "padded_ofea = pad_sequences(ofea, padding = \"post\", maxlen = maxlen, dtype = 'float64')"
      ],
      "execution_count": 0,
      "outputs": []
    },
    {
      "cell_type": "code",
      "metadata": {
        "id": "DUkp8MeXyL_a",
        "colab_type": "code",
        "colab": {}
      },
      "source": [
        "#finding one-hot encoding of the padded activity for each concatenation and access later.\n",
        "X = to_categorical(\n",
        "    padded_act,\n",
        "    num_classes= classes+1,\n",
        "    dtype = 'int'\n",
        ")\n",
        "# X.shape"
      ],
      "execution_count": 0,
      "outputs": []
    },
    {
      "cell_type": "code",
      "metadata": {
        "id": "GNMmYW0Cz0HG",
        "colab_type": "code",
        "colab": {}
      },
      "source": [
        "#concatinating other features into the one-hot encoding making the shape(-1,13,10) for this dataset.\n",
        "X = np.concatenate((X,padded_ofea) , axis = 2)\n"
      ],
      "execution_count": 0,
      "outputs": []
    },
    {
      "cell_type": "markdown",
      "metadata": {
        "id": "gtlM5-0z_ICc",
        "colab_type": "text"
      },
      "source": [
        "**PREFIX = decide here**"
      ]
    },
    {
      "cell_type": "code",
      "metadata": {
        "id": "ItFt3y9GSgyx",
        "colab_type": "code",
        "colab": {}
      },
      "source": [
        "# padded_time.shape"
      ],
      "execution_count": 0,
      "outputs": []
    },
    {
      "cell_type": "code",
      "metadata": {
        "id": "oG0Uv0Vq_NBf",
        "colab_type": "code",
        "colab": {}
      },
      "source": [
        "#decide the length of prefix here\n",
        "prefix = 2"
      ],
      "execution_count": 0,
      "outputs": []
    },
    {
      "cell_type": "code",
      "metadata": {
        "id": "-mbTpHU3md9y",
        "colab_type": "code",
        "colab": {}
      },
      "source": [
        "#We remove all the traces where the end of trace has already occurerred as they would make our model bias if taken \n",
        "X_train = X[X[:,prefix-1,0] == 0]\n",
        "time = padded_time[X[:,prefix-1,0] == 0]\n",
        "# we also keep the corresponding timestamps in time array"
      ],
      "execution_count": 0,
      "outputs": []
    },
    {
      "cell_type": "code",
      "metadata": {
        "id": "-wDEZziRou30",
        "colab_type": "code",
        "outputId": "e0c9b795-bf83-4bc2-d371-9bd36a353493",
        "colab": {
          "base_uri": "https://localhost:8080/",
          "height": 34
        }
      },
      "source": [
        "print(\"The shape of the data before cutting it for training and validation: \"+str(X_train.shape))"
      ],
      "execution_count": 29,
      "outputs": [
        {
          "output_type": "stream",
          "text": [
            "The shape of the data before cutting it for training and validation: (7469, 13, 10)\n"
          ],
          "name": "stdout"
        }
      ]
    },
    {
      "cell_type": "code",
      "metadata": {
        "id": "f-MX-zR27LbU",
        "colab_type": "code",
        "colab": {}
      },
      "source": [
        "# X_train[:,:prefix,:].shape"
      ],
      "execution_count": 0,
      "outputs": []
    },
    {
      "cell_type": "code",
      "metadata": {
        "id": "0F1oz3X48uAW",
        "colab_type": "code",
        "outputId": "ac761c2b-da4c-4378-e327-3682054d907a",
        "colab": {
          "base_uri": "https://localhost:8080/",
          "height": 51
        }
      },
      "source": [
        "#For our purposes we take 80% of data for training and rest for testing results.  \n",
        "till = int(X_train.shape[0] *0.8)\n",
        "X_test = X_train[till:]\n",
        "X_train = X_train[:till]\n",
        "# X_test.shape\n",
        "print(\"The shape of the training data \"+str(X_train.shape))\n",
        "print(\"The shape of the testing data \"+str(X_test.shape))"
      ],
      "execution_count": 31,
      "outputs": [
        {
          "output_type": "stream",
          "text": [
            "The shape of the training data (5004, 13, 10)\n",
            "The shape of the testing data (2465, 13, 10)\n"
          ],
          "name": "stdout"
        }
      ]
    },
    {
      "cell_type": "code",
      "metadata": {
        "id": "qx0ofcOOS5_O",
        "colab_type": "code",
        "colab": {}
      },
      "source": [
        "#we do this for time array previously formed as well\n",
        "time_test = time[till:]\n",
        "time_train = time[:till]"
      ],
      "execution_count": 0,
      "outputs": []
    },
    {
      "cell_type": "code",
      "metadata": {
        "id": "CejemtJ0im_0",
        "colab_type": "code",
        "colab": {}
      },
      "source": [
        "nb_epoch = 50\n",
        "batch_size = 16#since number of traces are small, we take small batch_size\n",
        "hidden_units = 100\n",
        "num_features = 10\n"
      ],
      "execution_count": 0,
      "outputs": []
    },
    {
      "cell_type": "code",
      "metadata": {
        "id": "uJmPkwGyBLW-",
        "colab_type": "code",
        "colab": {}
      },
      "source": [
        "class PlotLosses(keras.callbacks.Callback):\n",
        "  \n",
        "    '''class to implement callback in keras\n",
        "    it would graph the losses as the model trains'''\n",
        "    def on_train_begin(self, logs={}):\n",
        "        self.i = 0\n",
        "        self.x = []\n",
        "        self.losses = []\n",
        "        self.val_losses = []\n",
        "        \n",
        "        self.fig = plt.figure()\n",
        "        \n",
        "        self.logs = []\n",
        "\n",
        "    def on_epoch_end(self, epoch, logs={}):\n",
        "        \n",
        "        self.logs.append(logs)\n",
        "        self.x.append(self.i)\n",
        "        self.losses.append(logs.get('loss'))\n",
        "        self.val_losses.append(logs.get('val_loss'))\n",
        "        self.i += 1\n",
        "        \n",
        "        clear_output(wait=True)\n",
        "        plt.plot(self.x, self.losses, label=\"loss\")\n",
        "        plt.plot(self.x, self.val_losses, label=\"val_loss\")\n",
        "        plt.xlabel('epochs')\n",
        "        plt.ylabel('loss in MAE')\n",
        "        plt.legend()\n",
        "        plt.show();\n",
        "        \n",
        "plot = PlotLosses()"
      ],
      "execution_count": 0,
      "outputs": []
    },
    {
      "cell_type": "markdown",
      "metadata": {
        "id": "jSY1lqqFCAzp",
        "colab_type": "text"
      },
      "source": [
        "**activity prediciton**"
      ]
    },
    {
      "cell_type": "code",
      "metadata": {
        "id": "ZKIEUhBOh5AZ",
        "colab_type": "code",
        "outputId": "ac397143-0af7-4796-a7b5-31ee8a9cc979",
        "colab": {
          "base_uri": "https://localhost:8080/",
          "height": 615
        }
      },
      "source": [
        "#model is separate model for only activity prediction hence no shared layer\n",
        "model1 = Sequential()\n",
        "model1.add(LSTM(hidden_units, input_shape = (prefix,num_features),return_sequences=True))\n",
        "model1.add(Dropout(0.2))\n",
        "model1.add(LSTM( 100))\n",
        "model1.add(BatchNormalization())\n",
        "model1.add(Dropout(0.2))\n",
        "model1.add(Dense(classes+1,activation='softmax'))\n",
        "\n",
        "print(model1.summary())\n",
        "model1.compile(loss = 'mean_squared_error', optimizer='adam',metrics = ['accuracy'])"
      ],
      "execution_count": 37,
      "outputs": [
        {
          "output_type": "stream",
          "text": [
            "WARNING: Logging before flag parsing goes to stderr.\n",
            "W0703 20:03:09.781550 140513673705344 deprecation_wrapper.py:119] From /usr/local/lib/python3.6/dist-packages/keras/backend/tensorflow_backend.py:74: The name tf.get_default_graph is deprecated. Please use tf.compat.v1.get_default_graph instead.\n",
            "\n",
            "W0703 20:03:09.827364 140513673705344 deprecation_wrapper.py:119] From /usr/local/lib/python3.6/dist-packages/keras/backend/tensorflow_backend.py:517: The name tf.placeholder is deprecated. Please use tf.compat.v1.placeholder instead.\n",
            "\n",
            "W0703 20:03:09.835277 140513673705344 deprecation_wrapper.py:119] From /usr/local/lib/python3.6/dist-packages/keras/backend/tensorflow_backend.py:4138: The name tf.random_uniform is deprecated. Please use tf.random.uniform instead.\n",
            "\n",
            "W0703 20:03:10.097552 140513673705344 deprecation_wrapper.py:119] From /usr/local/lib/python3.6/dist-packages/keras/backend/tensorflow_backend.py:133: The name tf.placeholder_with_default is deprecated. Please use tf.compat.v1.placeholder_with_default instead.\n",
            "\n",
            "W0703 20:03:10.108967 140513673705344 deprecation.py:506] From /usr/local/lib/python3.6/dist-packages/keras/backend/tensorflow_backend.py:3445: calling dropout (from tensorflow.python.ops.nn_ops) with keep_prob is deprecated and will be removed in a future version.\n",
            "Instructions for updating:\n",
            "Please use `rate` instead of `keep_prob`. Rate should be set to `rate = 1 - keep_prob`.\n",
            "W0703 20:03:10.617182 140513673705344 deprecation_wrapper.py:119] From /usr/local/lib/python3.6/dist-packages/keras/optimizers.py:790: The name tf.train.Optimizer is deprecated. Please use tf.compat.v1.train.Optimizer instead.\n",
            "\n"
          ],
          "name": "stderr"
        },
        {
          "output_type": "stream",
          "text": [
            "_________________________________________________________________\n",
            "Layer (type)                 Output Shape              Param #   \n",
            "=================================================================\n",
            "lstm_1 (LSTM)                (None, 2, 100)            44400     \n",
            "_________________________________________________________________\n",
            "dropout_1 (Dropout)          (None, 2, 100)            0         \n",
            "_________________________________________________________________\n",
            "lstm_2 (LSTM)                (None, 100)               80400     \n",
            "_________________________________________________________________\n",
            "batch_normalization_1 (Batch (None, 100)               400       \n",
            "_________________________________________________________________\n",
            "dropout_2 (Dropout)          (None, 100)               0         \n",
            "_________________________________________________________________\n",
            "dense_1 (Dense)              (None, 7)                 707       \n",
            "=================================================================\n",
            "Total params: 125,907\n",
            "Trainable params: 125,707\n",
            "Non-trainable params: 200\n",
            "_________________________________________________________________\n",
            "None\n"
          ],
          "name": "stdout"
        }
      ]
    },
    {
      "cell_type": "code",
      "metadata": {
        "id": "r3C3Hkbcif5O",
        "colab_type": "code",
        "outputId": "6f96bcb7-fdca-4083-99e1-74ff3aa159e3",
        "colab": {
          "base_uri": "https://localhost:8080/",
          "height": 283
        }
      },
      "source": [
        "history = model1.fit(X_train[:,:prefix,:], X_train[:,prefix,:7], epochs=15, batch_size=batch_size,validation_split=0.2,callbacks=[plot]\n",
        "          ,verbose=0)"
      ],
      "execution_count": 768,
      "outputs": [
        {
          "output_type": "display_data",
          "data": {
            "image/png": "[encoded data removed]",
            "text/plain": [
              "<Figure size 432x288 with 1 Axes>"
            ]
          },
          "metadata": {
            "tags": []
          }
        }
      ]
    },
    {
      "cell_type": "code",
      "metadata": {
        "id": "AAmIkhVCi-ik",
        "colab_type": "code",
        "outputId": "5c3b7918-ae65-468b-8412-550e6e8e975b",
        "colab": {
          "base_uri": "https://localhost:8080/",
          "height": 85
        }
      },
      "source": [
        "accr = model1.evaluate(X_test[:,:prefix,:],X_test[:,prefix,:7])\n",
        "print('Test set\\n  Loss: {:0.3f}\\n  Accuracy: {:0.3f}'.format(accr[0],accr[1]))"
      ],
      "execution_count": 769,
      "outputs": [
        {
          "output_type": "stream",
          "text": [
            "192/192 [==============================] - 0s 259us/step\n",
            "Test set\n",
            "  Loss: 0.075\n",
            "  Accuracy: 0.552\n"
          ],
          "name": "stdout"
        }
      ]
    },
    {
      "cell_type": "markdown",
      "metadata": {
        "id": "iGKDaQP3B8jg",
        "colab_type": "text"
      },
      "source": [
        "**Time prediction**"
      ]
    },
    {
      "cell_type": "code",
      "metadata": {
        "id": "zOytmtG20fWB",
        "colab_type": "code",
        "outputId": "9f0d1ef6-98da-4b73-8e45-da2211af79a5",
        "colab": {
          "base_uri": "https://localhost:8080/",
          "height": 459
        }
      },
      "source": [
        "#model2 calcualtes time only hence no shared layer\n",
        "model2 = Sequential()\n",
        "model2.add(LSTM(hidden_units,input_shape = (prefix,num_features),return_sequences=True))\n",
        "model2.add(Dropout(0.5))\n",
        "model2.add(LSTM(100 ))\n",
        "model2.add(BatchNormalization())\n",
        "model2.add(Activation('relu'))\n",
        "model2.add(Dropout(0.5))\n",
        "model2.add(Dense(128,activation='relu'))\n",
        "\n",
        "model2.add(Dense(32,activation='relu'))\n",
        "model2.add(Dense(1,activation='linear'))\n",
        "\n",
        "print(model2.summary())\n",
        "model2.compile(loss = 'mean_squared_error', optimizer='adam',metrics = ['mae'])"
      ],
      "execution_count": 38,
      "outputs": [
        {
          "output_type": "stream",
          "text": [
            "_________________________________________________________________\n",
            "Layer (type)                 Output Shape              Param #   \n",
            "=================================================================\n",
            "lstm_3 (LSTM)                (None, 2, 100)            44400     \n",
            "_________________________________________________________________\n",
            "dropout_3 (Dropout)          (None, 2, 100)            0         \n",
            "_________________________________________________________________\n",
            "lstm_4 (LSTM)                (None, 100)               80400     \n",
            "_________________________________________________________________\n",
            "batch_normalization_2 (Batch (None, 100)               400       \n",
            "_________________________________________________________________\n",
            "activation_1 (Activation)    (None, 100)               0         \n",
            "_________________________________________________________________\n",
            "dropout_4 (Dropout)          (None, 100)               0         \n",
            "_________________________________________________________________\n",
            "dense_2 (Dense)              (None, 128)               12928     \n",
            "_________________________________________________________________\n",
            "dense_3 (Dense)              (None, 32)                4128      \n",
            "_________________________________________________________________\n",
            "dense_4 (Dense)              (None, 1)                 33        \n",
            "=================================================================\n",
            "Total params: 142,289\n",
            "Trainable params: 142,089\n",
            "Non-trainable params: 200\n",
            "_________________________________________________________________\n",
            "None\n"
          ],
          "name": "stdout"
        }
      ]
    },
    {
      "cell_type": "code",
      "metadata": {
        "id": "y1WRkpzq0_Ok",
        "colab_type": "code",
        "outputId": "a6d7892a-e4af-4b3e-aa60-4bdfa4b40ad6",
        "colab": {
          "base_uri": "https://localhost:8080/",
          "height": 283
        }
      },
      "source": [
        "history = model2.fit(X_train[:,:prefix,:], X_train[:,prefix,7], epochs=50, batch_size=batch_size,validation_split=0.2,callbacks=[plot]\n",
        "          ,verbose=0)"
      ],
      "execution_count": 779,
      "outputs": [
        {
          "output_type": "display_data",
          "data": {
            "image/png": "[encoded data removed]",
            "text/plain": [
              "<Figure size 432x288 with 1 Axes>"
            ]
          },
          "metadata": {
            "tags": []
          }
        }
      ]
    },
    {
      "cell_type": "code",
      "metadata": {
        "id": "vo2eynMA3JJ3",
        "colab_type": "code",
        "outputId": "60705b8d-fa31-4fb0-9575-b0927d61050a",
        "colab": {
          "base_uri": "https://localhost:8080/",
          "height": 85
        }
      },
      "source": [
        "accr = model2.evaluate(X_test[:,:prefix,:],X_test[:,prefix,7])\n",
        "print('Test set\\n  Loss: {:0.3f}\\n  MAE: {:0.3f}'.format(accr[0],accr[1]))"
      ],
      "execution_count": 780,
      "outputs": [
        {
          "output_type": "stream",
          "text": [
            "192/192 [==============================] - 0s 241us/step\n",
            "Test set\n",
            "  Loss: 8.578\n",
            "  MAE: 1.040\n"
          ],
          "name": "stdout"
        }
      ]
    },
    {
      "cell_type": "markdown",
      "metadata": {
        "id": "s6rePtZ8CHje",
        "colab_type": "text"
      },
      "source": [
        "**shared layer of activity and time**"
      ]
    },
    {
      "cell_type": "code",
      "metadata": {
        "id": "ehhSPji2ywXl",
        "colab_type": "code",
        "colab": {}
      },
      "source": [
        "from keras.models import Model\n",
        "from keras.layers import *    \n"
      ],
      "execution_count": 0,
      "outputs": []
    },
    {
      "cell_type": "code",
      "metadata": {
        "id": "d_kMcfPEcCPq",
        "colab_type": "code",
        "outputId": "4f10b1d3-60aa-4137-dd78-e8549629350a",
        "colab": {
          "base_uri": "https://localhost:8080/",
          "height": 785
        }
      },
      "source": [
        "#shared model where first layer is common then two layers branch out specializing in activity and time prediction respectively\n",
        "inp = Input((prefix,num_features),name='inp')  \n",
        "\n",
        "x = LSTM(hidden_units,input_shape = (prefix,num_features),return_sequences=True)(inp)\n",
        "x = Dropout(0.6)(x)\n",
        "temp1 =LSTM(100 )(x)\n",
        "temp = LSTM(100)(x)\n",
        "\n",
        "temp = BatchNormalization()(temp)\n",
        "temp = Activation('relu')(temp)\n",
        "temp= Dropout(0.6)(temp)\n",
        "temp1= Dropout(0.6)(temp1)\n",
        "temp = Dense(128,activation='relu')(temp)\n",
        "temp = BatchNormalization()(temp)\n",
        "temp = Activation('relu')(temp)\n",
        "temp= Dropout(0.6)(temp)\n",
        "\n",
        "act_output = Dense(classes+1, activation='softmax', kernel_initializer='glorot_uniform', name='act_output')(temp1)\n",
        "time_output = Dense(1, kernel_initializer='glorot_uniform', name='time_output')(temp)\n",
        "\n",
        "\n",
        "model3 = Model(inputs=[inp], outputs=[act_output, time_output])\n",
        "print(model3.summary())\n",
        "model3.compile(loss={'act_output':'categorical_crossentropy', 'time_output':'mean_squared_error'}, optimizer='Adam',metrics = {'act_output':'accuracy', 'time_output':'mae'})\n"
      ],
      "execution_count": 40,
      "outputs": [
        {
          "output_type": "stream",
          "text": [
            "W0703 20:03:25.425271 140513673705344 nn_ops.py:4224] Large dropout rate: 0.6 (>0.5). In TensorFlow 2.x, dropout() uses dropout rate instead of keep_prob. Please ensure that this is intended.\n",
            "W0703 20:03:26.095467 140513673705344 nn_ops.py:4224] Large dropout rate: 0.6 (>0.5). In TensorFlow 2.x, dropout() uses dropout rate instead of keep_prob. Please ensure that this is intended.\n",
            "W0703 20:03:26.121759 140513673705344 nn_ops.py:4224] Large dropout rate: 0.6 (>0.5). In TensorFlow 2.x, dropout() uses dropout rate instead of keep_prob. Please ensure that this is intended.\n",
            "W0703 20:03:26.239953 140513673705344 nn_ops.py:4224] Large dropout rate: 0.6 (>0.5). In TensorFlow 2.x, dropout() uses dropout rate instead of keep_prob. Please ensure that this is intended.\n",
            "W0703 20:03:26.310395 140513673705344 deprecation_wrapper.py:119] From /usr/local/lib/python3.6/dist-packages/keras/backend/tensorflow_backend.py:3295: The name tf.log is deprecated. Please use tf.math.log instead.\n",
            "\n"
          ],
          "name": "stderr"
        },
        {
          "output_type": "stream",
          "text": [
            "__________________________________________________________________________________________________\n",
            "Layer (type)                    Output Shape         Param #     Connected to                     \n",
            "==================================================================================================\n",
            "inp (InputLayer)                (None, 2, 10)        0                                            \n",
            "__________________________________________________________________________________________________\n",
            "lstm_5 (LSTM)                   (None, 2, 100)       44400       inp[0][0]                        \n",
            "__________________________________________________________________________________________________\n",
            "dropout_5 (Dropout)             (None, 2, 100)       0           lstm_5[0][0]                     \n",
            "__________________________________________________________________________________________________\n",
            "lstm_7 (LSTM)                   (None, 100)          80400       dropout_5[0][0]                  \n",
            "__________________________________________________________________________________________________\n",
            "batch_normalization_3 (BatchNor (None, 100)          400         lstm_7[0][0]                     \n",
            "__________________________________________________________________________________________________\n",
            "activation_2 (Activation)       (None, 100)          0           batch_normalization_3[0][0]      \n",
            "__________________________________________________________________________________________________\n",
            "dropout_6 (Dropout)             (None, 100)          0           activation_2[0][0]               \n",
            "__________________________________________________________________________________________________\n",
            "dense_5 (Dense)                 (None, 128)          12928       dropout_6[0][0]                  \n",
            "__________________________________________________________________________________________________\n",
            "batch_normalization_4 (BatchNor (None, 128)          512         dense_5[0][0]                    \n",
            "__________________________________________________________________________________________________\n",
            "lstm_6 (LSTM)                   (None, 100)          80400       dropout_5[0][0]                  \n",
            "__________________________________________________________________________________________________\n",
            "activation_3 (Activation)       (None, 128)          0           batch_normalization_4[0][0]      \n",
            "__________________________________________________________________________________________________\n",
            "dropout_7 (Dropout)             (None, 100)          0           lstm_6[0][0]                     \n",
            "__________________________________________________________________________________________________\n",
            "dropout_8 (Dropout)             (None, 128)          0           activation_3[0][0]               \n",
            "__________________________________________________________________________________________________\n",
            "act_output (Dense)              (None, 7)            707         dropout_7[0][0]                  \n",
            "__________________________________________________________________________________________________\n",
            "time_output (Dense)             (None, 1)            129         dropout_8[0][0]                  \n",
            "==================================================================================================\n",
            "Total params: 219,876\n",
            "Trainable params: 219,420\n",
            "Non-trainable params: 456\n",
            "__________________________________________________________________________________________________\n",
            "None\n"
          ],
          "name": "stdout"
        }
      ]
    },
    {
      "cell_type": "code",
      "metadata": {
        "id": "dLYIzf-4cSF4",
        "colab_type": "code",
        "outputId": "fb2c0803-77c8-420a-9f75-8cfbf6cc8dd5",
        "colab": {
          "base_uri": "https://localhost:8080/",
          "height": 283
        }
      },
      "source": [
        "history = model3.fit(X_train[:,:prefix,:], {'act_output':X_train[:,prefix,:7], 'time_output':X_train[:,prefix,7]}, epochs=50, batch_size=batch_size,validation_split=0.2,callbacks=[plot]\n",
        "          ,verbose=0)"
      ],
      "execution_count": 108,
      "outputs": [
        {
          "output_type": "display_data",
          "data": {
            "image/png": "[encoded data removed]",
            "text/plain": [
              "<Figure size 432x288 with 1 Axes>"
            ]
          },
          "metadata": {
            "tags": []
          }
        }
      ]
    },
    {
      "cell_type": "code",
      "metadata": {
        "id": "Hfp0j-6Wd_Ba",
        "colab_type": "code",
        "outputId": "d42fcd6b-202f-485e-c9b5-9f1a2896d6cf",
        "colab": {
          "base_uri": "https://localhost:8080/",
          "height": 102
        }
      },
      "source": [
        "accr = model3.evaluate(X_test[:,:prefix,:],{'act_output':X_test[:,prefix,:7], 'time_output':X_test[:,prefix,7]})\n",
        "print('Test set\\n  Loss: {:0.3f}\\n  act_output_acc: {:0.3f} \\n  time_output_mean_absolute_error: {:0.3f}'.format(accr[0],accr[3],accr[4]))"
      ],
      "execution_count": 110,
      "outputs": [
        {
          "output_type": "stream",
          "text": [
            "1494/1494 [==============================] - 0s 92us/step\n",
            "Test set\n",
            "  Loss: 74.167\n",
            "  act_output_acc: 0.675 \n",
            "  time_output_mean_absolute_error: 5.463\n"
          ],
          "name": "stdout"
        }
      ]
    },
    {
      "cell_type": "code",
      "metadata": {
        "id": "16jyjtz0pHir",
        "colab_type": "code",
        "colab": {}
      },
      "source": [
        "# model3.save(\"p5s1bpi.h5\")"
      ],
      "execution_count": 0,
      "outputs": []
    },
    {
      "cell_type": "code",
      "metadata": {
        "id": "f76Mzd-Gpi_3",
        "colab_type": "code",
        "colab": {}
      },
      "source": [
        "from keras.models import load_model\n",
        " \n",
        "# # load model\n",
        "# p2 = load_model('p5s1bpi.h5')\n",
        "# # summarize model.\n",
        "# p2.summary()"
      ],
      "execution_count": 0,
      "outputs": []
    },
    {
      "cell_type": "markdown",
      "metadata": {
        "id": "DRryMh_zEYpa",
        "colab_type": "text"
      },
      "source": [
        "**Attention layer implementation**"
      ]
    },
    {
      "cell_type": "markdown",
      "metadata": {
        "colab_type": "text",
        "id": "mhFTKqOilrig"
      },
      "source": [
        "**PREFIX = decide here**"
      ]
    },
    {
      "cell_type": "code",
      "metadata": {
        "id": "no7OwgRi18vC",
        "colab_type": "code",
        "colab": {}
      },
      "source": [
        "class Attention(Layer):\n",
        "    '''attention layer which inputs a layer \n",
        "    and according to the shape of the current \n",
        "    input, outputs augmented layer '''\n",
        "    def __init__(self, nb_head, size_per_head, **kwargs):\n",
        "        self.nb_head = nb_head\n",
        "        self.size_per_head = size_per_head\n",
        "        self.output_dim = nb_head*size_per_head\n",
        "        super(Attention, self).__init__(**kwargs)\n",
        "\n",
        "    def build(self, input_shape):\n",
        "        self.WQ = self.add_weight(name='WQ', \n",
        "                                  shape=(input_shape[0][-1], self.output_dim),\n",
        "                                  initializer='glorot_uniform',\n",
        "                                  trainable=True)\n",
        "        self.WK = self.add_weight(name='WK', \n",
        "                                  shape=(input_shape[1][-1], self.output_dim),\n",
        "                                  initializer='glorot_uniform',\n",
        "                                  trainable=True)\n",
        "        self.WV = self.add_weight(name='WV', \n",
        "                                  shape=(input_shape[2][-1], self.output_dim),\n",
        "                                  initializer='glorot_uniform',\n",
        "                                  trainable=True)\n",
        "        super(Attention, self).build(input_shape)\n",
        "        \n",
        "        \n",
        "#     def Mask(self, inputs, seq_len, mode='mul'):\n",
        "#         if seq_len == None:\n",
        "#             return inputs\n",
        "#         else:\n",
        "#             mask = K.one_hot(seq_len[:,0], K.shape(inputs)[1])\n",
        "#             mask = 1 - K.cumsum(mask, 1)\n",
        "#             for _ in range(len(inputs.shape)-2):\n",
        "#                 mask = K.expand_dims(mask, 2)\n",
        "#             if mode == 'mul':\n",
        "#                 return inputs * mask\n",
        "#             if mode == 'add':\n",
        "#                 return inputs - (1 - mask) * 1e12\n",
        "              \n",
        "    def call(self, x):\n",
        "        if len(x) == 3:\n",
        "            Q_seq,K_seq,V_seq = x\n",
        "            Q_len,V_len = None,None\n",
        "        elif len(x) == 5:\n",
        "            Q_seq,K_seq,V_seq,Q_len,V_len = x\n",
        "        Q_seq = K.dot(Q_seq, self.WQ)\n",
        "        Q_seq = K.reshape(Q_seq, (-1, K.shape(Q_seq)[1], self.nb_head, self.size_per_head))\n",
        "        Q_seq = K.permute_dimensions(Q_seq, (0,2,1,3))\n",
        "        K_seq = K.dot(K_seq, self.WK)\n",
        "        K_seq = K.reshape(K_seq, (-1, K.shape(K_seq)[1], self.nb_head, self.size_per_head))\n",
        "        K_seq = K.permute_dimensions(K_seq, (0,2,1,3))\n",
        "        V_seq = K.dot(V_seq, self.WV)\n",
        "        V_seq = K.reshape(V_seq, (-1, K.shape(V_seq)[1], self.nb_head, self.size_per_head))\n",
        "        V_seq = K.permute_dimensions(V_seq, (0,2,1,3))\n",
        "        A = K.batch_dot(Q_seq, K_seq, axes=[3,3]) / self.size_per_head**0.5\n",
        "        A = K.permute_dimensions(A, (0,3,2,1))\n",
        "#         A = self.Mask(A, V_len, 'add')\n",
        "        A = K.permute_dimensions(A, (0,3,2,1))    \n",
        "        A = K.softmax(A)\n",
        "        O_seq = K.batch_dot(A, V_seq, axes=[3,2])\n",
        "        O_seq = K.permute_dimensions(O_seq, (0,2,1,3))\n",
        "        O_seq = K.reshape(O_seq, (-1, K.shape(O_seq)[1], self.output_dim))\n",
        "#         O_seq = self.Mask(O_seq, Q_len, 'mul')\n",
        "        return O_seq\n",
        "      \n",
        "    def compute_output_shape(self, input_shape):\n",
        "        return (input_shape[0][0], input_shape[0][1], self.output_dim)"
      ],
      "execution_count": 0,
      "outputs": []
    },
    {
      "cell_type": "code",
      "metadata": {
        "id": "fyKmvuVOjrT5",
        "colab_type": "code",
        "outputId": "fd8186e6-5157-4986-d330-74b8d79df568",
        "colab": {
          "base_uri": "https://localhost:8080/",
          "height": 629
        }
      },
      "source": [
        "#shared model where first layer is common then two layers branch out specializing in activity and time prediction respectively\n",
        "inp = Input((prefix,num_features),name='inp')  \n",
        "x = LSTM(hidden_units,return_sequences=True)(inp)\n",
        "temp= Dropout(0.6)(temp)\n",
        "temp = Attention(2, 64)([x, x, x])  #output: [batch_size, time_step, nb_head*size_per_head]\n",
        "\n",
        "\n",
        "temp = BatchNormalization()(temp)\n",
        "temp = Activation('relu')(temp)\n",
        "temp= Dropout(0.6)(temp)\n",
        "temp = Dense(128,activation='relu')(temp)\n",
        "temp= Dropout(0.6)(temp)\n",
        "temp1 = Dense(128,activation='relu')(temp)\n",
        "temp = Flatten()(temp)\n",
        "temp1 = Flatten()(temp1)\n",
        "\n",
        "act_output = Dense(classes+1, activation='softmax', kernel_initializer='glorot_uniform', name='act_output')(temp1)\n",
        "time_output = Dense(1, kernel_initializer='glorot_uniform', name='time_output')(temp)\n",
        "\n",
        "\n",
        "attmodel = Model(inputs=[inp], outputs=[act_output, time_output])\n",
        "print(attmodel.summary())\n",
        "attmodel.compile(loss={'act_output':'categorical_crossentropy', 'time_output':'mean_squared_error'}, optimizer='Adam',metrics = {'act_output':'accuracy', 'time_output':'mae'})\n"
      ],
      "execution_count": 46,
      "outputs": [
        {
          "output_type": "stream",
          "text": [
            "__________________________________________________________________________________________________\n",
            "Layer (type)                    Output Shape         Param #     Connected to                     \n",
            "==================================================================================================\n",
            "inp (InputLayer)                (None, 2, 10)        0                                            \n",
            "__________________________________________________________________________________________________\n",
            "lstm_9 (LSTM)                   (None, 2, 100)       44400       inp[0][0]                        \n",
            "__________________________________________________________________________________________________\n",
            "attention_2 (Attention)         (None, 2, 128)       38400       lstm_9[0][0]                     \n",
            "                                                                 lstm_9[0][0]                     \n",
            "                                                                 lstm_9[0][0]                     \n",
            "__________________________________________________________________________________________________\n",
            "batch_normalization_6 (BatchNor (None, 2, 128)       512         attention_2[0][0]                \n",
            "__________________________________________________________________________________________________\n",
            "activation_5 (Activation)       (None, 2, 128)       0           batch_normalization_6[0][0]      \n",
            "__________________________________________________________________________________________________\n",
            "dropout_13 (Dropout)            (None, 2, 128)       0           activation_5[0][0]               \n",
            "__________________________________________________________________________________________________\n",
            "dense_8 (Dense)                 (None, 2, 128)       16512       dropout_13[0][0]                 \n",
            "__________________________________________________________________________________________________\n",
            "dropout_14 (Dropout)            (None, 2, 128)       0           dense_8[0][0]                    \n",
            "__________________________________________________________________________________________________\n",
            "dense_9 (Dense)                 (None, 2, 128)       16512       dropout_14[0][0]                 \n",
            "__________________________________________________________________________________________________\n",
            "flatten_4 (Flatten)             (None, 256)          0           dense_9[0][0]                    \n",
            "__________________________________________________________________________________________________\n",
            "flatten_3 (Flatten)             (None, 256)          0           dropout_14[0][0]                 \n",
            "__________________________________________________________________________________________________\n",
            "act_output (Dense)              (None, 7)            1799        flatten_4[0][0]                  \n",
            "__________________________________________________________________________________________________\n",
            "time_output (Dense)             (None, 1)            257         flatten_3[0][0]                  \n",
            "==================================================================================================\n",
            "Total params: 118,392\n",
            "Trainable params: 118,136\n",
            "Non-trainable params: 256\n",
            "__________________________________________________________________________________________________\n",
            "None\n"
          ],
          "name": "stdout"
        }
      ]
    },
    {
      "cell_type": "code",
      "metadata": {
        "colab_type": "code",
        "id": "NpCyb0CX0FcW",
        "colab": {
          "base_uri": "https://localhost:8080/",
          "height": 283
        },
        "outputId": "1dee387f-2b70-4de6-bdcd-b4eed4ed10f8"
      },
      "source": [
        "history = attmodel.fit(X_train[:,:prefix,:], {'act_output':X_train[:,prefix,:7], 'time_output':X_train[:,prefix,7]}, epochs=5, batch_size=batch_size,validation_split=0.2,callbacks=[plot]\n",
        "          ,verbose=0)"
      ],
      "execution_count": 762,
      "outputs": [
        {
          "output_type": "display_data",
          "data": {
            "image/png": "[encoded data removed]",
            "text/plain": [
              "<Figure size 432x288 with 1 Axes>"
            ]
          },
          "metadata": {
            "tags": []
          }
        }
      ]
    },
    {
      "cell_type": "code",
      "metadata": {
        "colab_type": "code",
        "id": "GHjuDbkp0Fcb",
        "outputId": "b6254e79-be15-4e66-fabf-11735999caf4",
        "colab": {
          "base_uri": "https://localhost:8080/",
          "height": 102
        }
      },
      "source": [
        "accr = attmodel.evaluate(X_test[:,:prefix,:],{'act_output':X_test[:,prefix,:7], 'time_output':X_test[:,prefix,7]})\n",
        "print('Test set\\n  Loss: {:0.3f}\\n  act_output_acc: {:0.3f} \\n  time_output_mean_absolute_error: {:0.3f}'.format(accr[0],accr[3],accr[4]))"
      ],
      "execution_count": 763,
      "outputs": [
        {
          "output_type": "stream",
          "text": [
            "192/192 [==============================] - 0s 285us/step\n",
            "Test set\n",
            "  Loss: 7.283\n",
            "  act_output_acc: 0.396 \n",
            "  time_output_mean_absolute_error: 0.780\n"
          ],
          "name": "stdout"
        }
      ]
    },
    {
      "cell_type": "code",
      "metadata": {
        "id": "De56XMyT6Za0",
        "colab_type": "code",
        "colab": {}
      },
      "source": [
        "# Suffix prediction and remaining cycle time prediction starts here\n",
        "prefix =3"
      ],
      "execution_count": 0,
      "outputs": []
    },
    {
      "cell_type": "code",
      "metadata": {
        "colab_type": "code",
        "id": "-Ed1zuFEunJ0",
        "outputId": "15d52bd3-ee01-48d2-de77-606a54e4a653",
        "colab": {
          "base_uri": "https://localhost:8080/",
          "height": 34
        }
      },
      "source": [
        "# similar process from above where we remove the traces who fall short of the prefix length taken\n",
        "X_train = X[X[:,prefix-1,0] == 0]\n",
        "time = padded_time[X[:,prefix-1,0] == 0]\n",
        "# time.shape"
      ],
      "execution_count": 185,
      "outputs": [
        {
          "output_type": "execute_result",
          "data": {
            "text/plain": [
              "(5704, 13)"
            ]
          },
          "metadata": {
            "tags": []
          },
          "execution_count": 185
        }
      ]
    },
    {
      "cell_type": "code",
      "metadata": {
        "colab_type": "code",
        "id": "BzdgMYelunKI",
        "outputId": "45822a00-31cb-4208-9579-0375e135fcb7",
        "colab": {
          "base_uri": "https://localhost:8080/",
          "height": 34
        }
      },
      "source": [
        "#data is divided into test and train\n",
        "till = int(X_train.shape[0] *0.8)\n",
        "X_test = X_train[till:]\n",
        "X_train = X_train[:till]\n",
        "# X_test.shape"
      ],
      "execution_count": 186,
      "outputs": [
        {
          "output_type": "execute_result",
          "data": {
            "text/plain": [
              "(1141, 13, 10)"
            ]
          },
          "metadata": {
            "tags": []
          },
          "execution_count": 186
        }
      ]
    },
    {
      "cell_type": "code",
      "metadata": {
        "colab_type": "code",
        "id": "cp3pttrrunKO",
        "colab": {}
      },
      "source": [
        "time_test = time[till:]\n",
        "time_train = time[:till]"
      ],
      "execution_count": 0,
      "outputs": []
    },
    {
      "cell_type": "code",
      "metadata": {
        "id": "Rg9jxb8oT5O8",
        "colab_type": "code",
        "colab": {}
      },
      "source": [
        "import datetime"
      ],
      "execution_count": 0,
      "outputs": []
    },
    {
      "cell_type": "code",
      "metadata": {
        "id": "G8ZBNX98scP_",
        "colab_type": "code",
        "colab": {}
      },
      "source": [
        "#The weights corresponding to different prefixes are saved and loaded here\n",
        "p2 = load_model('p2s1bpi.h5')\n",
        "p3 = load_model('p3s1bpi.h5')\n",
        "p4 = load_model('p4s1bpi.h5')\n",
        "p5 = load_model('p5s1bpi.h5')"
      ],
      "execution_count": 0,
      "outputs": []
    },
    {
      "cell_type": "code",
      "metadata": {
        "id": "C3LjToyx1Y01",
        "colab_type": "code",
        "colab": {}
      },
      "source": [
        "#we calculate the previous time because we have to add the new elapsed time to it to form the new timestamp\n",
        "prevtime = time_test[:,prefix - 1]\n"
      ],
      "execution_count": 0,
      "outputs": []
    },
    {
      "cell_type": "code",
      "metadata": {
        "id": "9LnQ0HWqx-ht",
        "colab_type": "code",
        "colab": {}
      },
      "source": [
        "pref = prefix#because the value of prefix will change so we want to store it"
      ],
      "execution_count": 0,
      "outputs": []
    },
    {
      "cell_type": "code",
      "metadata": {
        "id": "RFhzxmT7yYhi",
        "colab_type": "code",
        "colab": {}
      },
      "source": [
        "#prevtime and last_time are same but used for different purposes in the code\n",
        "last_time = time_test[:,prefix-1]\n",
        "# last_time"
      ],
      "execution_count": 0,
      "outputs": []
    },
    {
      "cell_type": "code",
      "metadata": {
        "id": "p2eFy3aI4XV5",
        "colab_type": "code",
        "colab": {}
      },
      "source": [
        "# We take the ground truth value of the future four events timestamp\n",
        "time_test = time_test[:,prefix:prefix+4]\n",
        "# time_test"
      ],
      "execution_count": 0,
      "outputs": []
    },
    {
      "cell_type": "code",
      "metadata": {
        "id": "4bk2yLXIGf-A",
        "colab_type": "code",
        "outputId": "d22c84b8-85df-4d13-d61a-c050b9a7245b",
        "colab": {
          "base_uri": "https://localhost:8080/",
          "height": 190
        }
      },
      "source": [
        "#seq will contain future suffix of each example in test case\n",
        "#time_pred will contain the time of the above said predicted suffix\n",
        "seq = []\n",
        "time_pred = []\n",
        "# endtime = []\n",
        "\n",
        "for i in range(len(X_test)):\n",
        "  seq.append([])\n",
        "  time_pred.append([])\n",
        "prefix=2\n",
        "testX = X_test[:,:prefix,:]#we take the input according to the specified prefix\n",
        "# print(prevtime[2])\n",
        "testnum = 1\n",
        "print(\"For instance we follow the test case with index 1 and see the predictions\")\n",
        "while(True):\n",
        "  #pact is predicted activity in one-hot encoded form\n",
        "  #ptime is predicted elapsed time in days.\n",
        "  if (prefix == 2):\n",
        "    pact,ptime=p2.predict(testX)\n",
        "  elif (prefix == 3):\n",
        "    pact,ptime=p3.predict(testX)\n",
        "  elif (prefix == 4):\n",
        "    pact,ptime=p4.predict(testX)\n",
        "  elif (prefix == 5):\n",
        "    pact,ptime=p5.predict(testX)\n",
        "  else:\n",
        "    #we predict only next 4 which is more than enough given the low number of events in the traces\n",
        "    break\n",
        "  \n",
        "  preact = np.argmax(pact,axis = 1)\n",
        "  #at this point for many traces end of trace i.e 0 would have occurred \n",
        "  #but we keep predicting forward and handle this issue afterwards in post-processing\n",
        "  newtime = []\n",
        "  for i in range( len(ptime)):\n",
        "    newtime.append( np.timedelta64( int((ptime*86400)[:,0][i] )  ,'s') + prevtime[i] )\n",
        "  newtime = np.array(newtime)\n",
        "  \n",
        "\n",
        "  for i in range( len(ptime)):\n",
        "    seq[i].append(preact[i])\n",
        "    time_pred[i].append(newtime[i])\n",
        "  print ( \"\\n\"+str(testnum)+\":Next activity is \" + str(preact[testnum]) + \" performed at time \"+ str(newtime[testnum]) + \" (previous activity time:\" + str(prevtime[testnum]) + \")\")\n",
        "  \n",
        "  act = np.zeros(( len(ptime),7))\n",
        "  prefix += 1\n",
        "  for i in range( len(ptime)): \n",
        "    act[i,preact[i]] = 1\n",
        "  act = act.reshape(-1,1,7)\n",
        "  \n",
        "  test = pd.DataFrame(newtime)\n",
        "  mid = []\n",
        "  sun = []\n",
        "  elapsed = []\n",
        "  for i in range( len(ptime)):\n",
        "    mid.append( (test[0][i].hour*3600 + test[0][i].minute*60 + test[0][i].second)/84600 )\n",
        "    sun.append( test[0][i].weekday() + mid[i] )\n",
        "    elapsed.append( (test[0][i] - prevtime[i]).total_seconds()/86400 )\n",
        "  mid = np.array(mid)\n",
        "  sun = np.array(sun)\n",
        "  elapsed = np.array(elapsed)\n",
        "  mid = mid.reshape(-1,1,1)\n",
        "  sun = sun.reshape(-1,1,1)\n",
        "  elapsed = elapsed.reshape(-1,1,1)\n",
        "  new = np.concatenate((act,mid,sun,elapsed),axis = 2 )\n",
        "  X_new = np.concatenate ((testX,new) , axis = 1)\n",
        "  #above, we extract information from the predicted data and concatenate it to our already given prefix to form\n",
        "  #a new prefix to predict next activity and timestamp in the sequence.\n",
        "\n",
        "#   truth = (preact != 0)\n",
        "  prevtime = newtime\n",
        "  testX = X_new\n",
        "#   break"
      ],
      "execution_count": 196,
      "outputs": [
        {
          "output_type": "stream",
          "text": [
            "For instance we follow the test case with index 1 and see the predictions\n",
            "\n",
            "1:Next activity is 6 performed at time 2012-01-26T15:26:51.000000000 (previous activity time:2012-01-18T21:39:55.000000000)\n",
            "\n",
            "1:Next activity is 4 performed at time 2012-01-26T22:31:34.000000000 (previous activity time:2012-01-26T15:26:51.000000000)\n",
            "\n",
            "1:Next activity is 6 performed at time 2012-01-29T03:15:47.000000000 (previous activity time:2012-01-26T22:31:34.000000000)\n",
            "\n",
            "1:Next activity is 0 performed at time 2012-01-29T05:15:09.000000000 (previous activity time:2012-01-29T03:15:47.000000000)\n"
          ],
          "name": "stdout"
        }
      ]
    },
    {
      "cell_type": "code",
      "metadata": {
        "id": "uP5ttH3KmUql",
        "colab_type": "code",
        "colab": {}
      },
      "source": [
        "#For each trace zero i.e end of trace would have occurred or worst case scenario end of trace,\n",
        "# we note down the index of that using zerofirst\n",
        "zerofirst = []\n",
        "for li in seq:\n",
        "  for i in range(len(li)):\n",
        "    if (li[i] == 0 or i == len(li)-1):\n",
        "      li[i:] = [0]*(len(li)- i)\n",
        "      zerofirst.append(i)\n",
        "      break\n",
        "# max(zerofirst)   "
      ],
      "execution_count": 0,
      "outputs": []
    },
    {
      "cell_type": "code",
      "metadata": {
        "id": "bfz8VFmiyIgQ",
        "colab_type": "code",
        "colab": {}
      },
      "source": [
        "prefix = pref"
      ],
      "execution_count": 0,
      "outputs": []
    },
    {
      "cell_type": "code",
      "metadata": {
        "id": "nSO78S8N6f-e",
        "colab_type": "code",
        "colab": {}
      },
      "source": [
        "#we note down the ground truth suffix for comparison purpose\n",
        "suffix = X_test[:,prefix:prefix+6-pref,:7]\n",
        "# suffix.shape"
      ],
      "execution_count": 0,
      "outputs": []
    },
    {
      "cell_type": "code",
      "metadata": {
        "id": "-_IHv9Vz7mRV",
        "colab_type": "code",
        "outputId": "0747ce0e-1964-47dd-c891-932e007f1ad2",
        "colab": {
          "base_uri": "https://localhost:8080/",
          "height": 34
        }
      },
      "source": [
        "#convert one-hot encoding to the actual value of the event i.e activity ID for comparion purposes\n",
        "preact = np.argmax(suffix,axis = 2)\n",
        "# list(preact[:5,:])\n",
        "preact.shape"
      ],
      "execution_count": 200,
      "outputs": [
        {
          "output_type": "execute_result",
          "data": {
            "text/plain": [
              "(1141, 3)"
            ]
          },
          "metadata": {
            "tags": []
          },
          "execution_count": 200
        }
      ]
    },
    {
      "cell_type": "code",
      "metadata": {
        "id": "lQNypb_kp_Yz",
        "colab_type": "code",
        "colab": {}
      },
      "source": [
        "#similar to zerofirst but zerotest is for the ground truth suffix extracted earliar.\n",
        "zerotest = []\n",
        "for li in preact:\n",
        "  for i in range(len(li)):\n",
        "    if (li[i] == 0 or i == len(li)-1):\n",
        "      li[i:] = [0]*(len(li)- i)\n",
        "      zerotest.append(i)\n",
        "      break\n",
        "      \n",
        "# max(zerotest)"
      ],
      "execution_count": 0,
      "outputs": []
    },
    {
      "cell_type": "code",
      "metadata": {
        "id": "lzmcwNcjyqML",
        "colab_type": "code",
        "colab": {
          "base_uri": "https://localhost:8080/",
          "height": 34
        },
        "outputId": "7ecca5d9-077c-469c-dc15-992509d1ac09"
      },
      "source": [
        "len(zerotest)\n",
        "time_test.shape"
      ],
      "execution_count": 202,
      "outputs": [
        {
          "output_type": "execute_result",
          "data": {
            "text/plain": [
              "(1141, 4)"
            ]
          },
          "metadata": {
            "tags": []
          },
          "execution_count": 202
        }
      ]
    },
    {
      "cell_type": "code",
      "metadata": {
        "id": "OYpHYdVbzh4S",
        "colab_type": "code",
        "colab": {}
      },
      "source": [
        "time_pred = np.array(time_pred)\n",
        "# time_pred.shape\n"
      ],
      "execution_count": 0,
      "outputs": []
    },
    {
      "cell_type": "code",
      "metadata": {
        "id": "ns8TBFbo6Os8",
        "colab_type": "code",
        "colab": {}
      },
      "source": [
        "# i=0\n",
        "# for li in time_pred:\n",
        "#   lmao = zerofirst[i]\n",
        "#   li[lmao:] = [0]*(len(li)- lmao)\n",
        "#   i +=1"
      ],
      "execution_count": 0,
      "outputs": []
    },
    {
      "cell_type": "code",
      "metadata": {
        "id": "Ozl7evXy-pTe",
        "colab_type": "code",
        "colab": {}
      },
      "source": [
        "# time_test"
      ],
      "execution_count": 0,
      "outputs": []
    },
    {
      "cell_type": "code",
      "metadata": {
        "id": "keO-Jat_xLTA",
        "colab_type": "code",
        "colab": {}
      },
      "source": [
        "# zerotest"
      ],
      "execution_count": 0,
      "outputs": []
    },
    {
      "cell_type": "code",
      "metadata": {
        "id": "Egg_NabNAgMo",
        "colab_type": "code",
        "colab": {}
      },
      "source": [
        "#This is for remaining cycle time prediction, we calculate the last known timestamp from the ground truth suffix\n",
        "i=0\n",
        "last_rec = []\n",
        "for li in time_test:\n",
        "  lmao = zerotest[i]\n",
        "  if (lmao == 0):\n",
        "    last_rec.append(last_time[i])\n",
        "    i+=1\n",
        "    continue\n",
        "  last_rec.append(li[lmao-1])\n",
        "  i +=1"
      ],
      "execution_count": 0,
      "outputs": []
    },
    {
      "cell_type": "code",
      "metadata": {
        "id": "oGUeCkeFKUmi",
        "colab_type": "code",
        "colab": {}
      },
      "source": [
        "#This is for remaining cycle time prediction as well, \n",
        "# we calculate the last known timestamp from the predicted suffix\n",
        "\n",
        "i=0\n",
        "last_pred = []\n",
        "for li in time_pred:\n",
        "  lmao = zerofirst[i]\n",
        "  if (lmao == 0  ):\n",
        "#     print(i,last_time[i]);\n",
        "    last_pred.append(last_time[i])\n",
        "    i+=1\n",
        "    continue\n",
        "  last_pred.append(li[lmao-1])\n",
        "  i +=1\n",
        "    "
      ],
      "execution_count": 0,
      "outputs": []
    },
    {
      "cell_type": "code",
      "metadata": {
        "id": "0uTvLiJOLfst",
        "colab_type": "code",
        "outputId": "650aec94-84c4-4887-8f43-06df1effe96a",
        "colab": {
          "base_uri": "https://localhost:8080/",
          "height": 71
        }
      },
      "source": [
        "#for the above two array created we find the difference in time \n",
        "diff = []\n",
        "\n",
        "for i in range(len(last_pred)):\n",
        "  if (last_pred[i] != 0):\n",
        "    dt = last_pred[i]- last_rec[i]\n",
        "    seconds = dt / np.timedelta64(1, 's')\n",
        "    diff.append(abs(seconds/86400))\n",
        "  "
      ],
      "execution_count": 209,
      "outputs": [
        {
          "output_type": "stream",
          "text": [
            "/usr/local/lib/python3.6/dist-packages/ipykernel_launcher.py:4: DeprecationWarning: elementwise comparison failed; this will raise an error in the future.\n",
            "  after removing the cwd from sys.path.\n"
          ],
          "name": "stderr"
        }
      ]
    },
    {
      "cell_type": "code",
      "metadata": {
        "id": "sWUxmXaRNfBx",
        "colab_type": "code",
        "outputId": "560425bb-9a82-448a-db96-67b7ba80b846",
        "colab": {
          "base_uri": "https://localhost:8080/",
          "height": 34
        }
      },
      "source": [
        "print(\" the result of remaining time cycle prediciton in MAE is :\"+ str(sum(diff)/len(diff)))"
      ],
      "execution_count": 210,
      "outputs": [
        {
          "output_type": "stream",
          "text": [
            " the result of remaining time cycle prediciton in MAE is :8.00225092917195\n"
          ],
          "name": "stdout"
        }
      ]
    },
    {
      "cell_type": "code",
      "metadata": {
        "id": "v0Bt77_5OUnA",
        "colab_type": "code",
        "colab": {}
      },
      "source": [
        "#for suffix prediction we have to convert them into string format\n",
        "#for each suffix we find the string version with last element as zero\n",
        "lpred = []\n",
        "for li in seq:\n",
        "  s = \"\"\n",
        "  flag = 1\n",
        "  for x in li:\n",
        "    if (x !=0 ):\n",
        "#       if (x ==0):\n",
        "#         flag =0\n",
        "      s+=str(x)\n",
        "  lpred.append(s)\n",
        "  \n",
        "  \n",
        "# lpred"
      ],
      "execution_count": 0,
      "outputs": []
    },
    {
      "cell_type": "code",
      "metadata": {
        "id": "UiHboBbgzLFM",
        "colab_type": "code",
        "colab": {}
      },
      "source": [
        "#similar to above, we find the ground truth string version of suffix\n",
        "ltruth = []\n",
        "for li in preact:\n",
        "  s = \"\"\n",
        "  flag = 1\n",
        "  for x in li:\n",
        "    if (x !=0 ):\n",
        "#       if (x ==0):\n",
        "#         flag =0\n",
        "      s+=str(x)\n",
        "  ltruth.append(s)\n",
        "# ltruth"
      ],
      "execution_count": 0,
      "outputs": []
    },
    {
      "cell_type": "code",
      "metadata": {
        "id": "BY1FzH3n0j2A",
        "colab_type": "code",
        "outputId": "97dbd9e2-b657-4a51-dc0b-7d9648291f34",
        "colab": {
          "base_uri": "https://localhost:8080/",
          "height": 34
        }
      },
      "source": [
        "# print(\"Installing strsim to calculate DLS\")\n",
        "pip install strsim"
      ],
      "execution_count": 213,
      "outputs": [
        {
          "output_type": "stream",
          "text": [
            "Requirement already satisfied: strsim in /usr/local/lib/python3.6/dist-packages (0.0.3)\n"
          ],
          "name": "stdout"
        }
      ]
    },
    {
      "cell_type": "code",
      "metadata": {
        "id": "jU0N7P4t1Q-L",
        "colab_type": "code",
        "outputId": "d0d673bc-6f1c-4090-9748-662f4d38f5f0",
        "colab": {
          "base_uri": "https://localhost:8080/",
          "height": 51
        }
      },
      "source": [
        "from similarity.damerau import Damerau\n",
        "#below are two example of how it works\n",
        "damerau = Damerau()\n",
        "print(damerau.distance('ABCDEF', 'ABDCE'))\n",
        "print(damerau.distance('ABCDE', 'ABCDE'))\n"
      ],
      "execution_count": 214,
      "outputs": [
        {
          "output_type": "stream",
          "text": [
            "2\n",
            "0.0\n"
          ],
          "name": "stdout"
        }
      ]
    },
    {
      "cell_type": "code",
      "metadata": {
        "id": "BB-WGwa244kJ",
        "colab_type": "code",
        "colab": {}
      },
      "source": [
        "# ltruth"
      ],
      "execution_count": 0,
      "outputs": []
    },
    {
      "cell_type": "code",
      "metadata": {
        "id": "Ps39UVNz1gO1",
        "colab_type": "code",
        "outputId": "cc07af54-c162-4211-e52f-5b8464733283",
        "colab": {
          "base_uri": "https://localhost:8080/",
          "height": 34
        }
      },
      "source": [
        "# we calculate the DLS for each suffix and add the result to damdist array\n",
        "damdist = []\n",
        "for i in range(len(lpred)):\n",
        "  if ( (max(len(ltruth[i]),len(lpred[i]))) == 0):\n",
        "      damdist.append(0)\n",
        "  else:\n",
        "      dist = damerau.distance(ltruth[i], lpred[i])/(max(len(ltruth[i]),len(lpred[i])))\n",
        "      damdist.append(dist)\n",
        "  \n",
        "  \n",
        "print(\"The DLS value for suffix is :\"+str(100-sum(damdist)/len(damdist)*100))\n",
        "# damdist"
      ],
      "execution_count": 216,
      "outputs": [
        {
          "output_type": "stream",
          "text": [
            "The DLS value for suffix is :23.53198948290968\n"
          ],
          "name": "stdout"
        }
      ]
    },
    {
      "cell_type": "code",
      "metadata": {
        "id": "iOZmetfO4URY",
        "colab_type": "code",
        "colab": {}
      },
      "source": [
        ""
      ],
      "execution_count": 0,
      "outputs": []
    }
  ]
}