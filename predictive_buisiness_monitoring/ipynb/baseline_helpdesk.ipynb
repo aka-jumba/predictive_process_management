{
  "nbformat": 4,
  "nbformat_minor": 0,
  "metadata": {
    "colab": {
      "name": "baseline_bpi12_nd_final.ipynb",
      "version": "0.3.2",
      "provenance": []
    },
    "kernelspec": {
      "name": "python3",
      "display_name": "Python 3"
    }
  },
  "cells": [
    {
      "cell_type": "code",
      "metadata": {
        "id": "Lz58qZlMt4-1",
        "colab_type": "code",
        "colab": {}
      },
      "source": [
        "import pandas as pd\n",
        "import numpy as np\n",
        "import keras\n",
        "from keras.preprocessing.text import Tokenizer\n",
        "from keras.preprocessing.sequence import pad_sequences\n",
        "from keras.models import Sequential\n",
        "from keras.layers import Dense, Embedding, LSTM, Dropout, Activation, Flatten\n",
        "from sklearn.model_selection import train_test_split\n",
        "from keras.utils.np_utils import to_categorical\n",
        "from keras.layers.normalization import BatchNormalization"
      ],
      "execution_count": 0,
      "outputs": []
    },
    {
      "cell_type": "code",
      "metadata": {
        "id": "I603uMBQt6tj",
        "colab_type": "code",
        "colab": {}
      },
      "source": [
        "import sklearn\n",
        "from sklearn.utils import shuffle\n",
        "from datetime import datetime\n",
        "from datetime import timedelta\n",
        "from sklearn.preprocessing import MinMaxScaler,StandardScaler\n",
        "from scipy import stats\n",
        "import matplotlib.pyplot as plt"
      ],
      "execution_count": 0,
      "outputs": []
    },
    {
      "cell_type": "code",
      "metadata": {
        "id": "K0v8hR2v-WwN",
        "colab_type": "code",
        "colab": {}
      },
      "source": [
        "#import the csv\n",
        "data = pd.read_csv('helpdesk.csv')\n",
        "np.sum(data.isna())\n",
        "# data['CompleteTimestamp'][0].day\n",
        "d = data"
      ],
      "execution_count": 0,
      "outputs": []
    },
    {
      "cell_type": "code",
      "metadata": {
        "id": "W9r7eD9at-rR",
        "colab_type": "code",
        "outputId": "d1994c77-4c96-4341-c866-9279525cd28f",
        "colab": {
          "base_uri": "https://localhost:8080/",
          "height": 34
        }
      },
      "source": [
        "#given the caseID, array 'numarray' outputs the number of events in  that particular caseID trace.\n",
        "caseS = pd.Series(data['CaseID'] )\n",
        "numarray = caseS.value_counts()\n",
        "print(\"Number of events in trace caseID 2 :\" + str(a[2]))\n"
      ],
      "execution_count": 156,
      "outputs": [
        {
          "output_type": "stream",
          "text": [
            "Number of events in trace caseID 2 :3\n"
          ],
          "name": "stdout"
        }
      ]
    },
    {
      "cell_type": "code",
      "metadata": {
        "id": "2rOTJoy6uLwo",
        "colab_type": "code",
        "colab": {}
      },
      "source": [
        "# outputs the number of traces where the number of events in the particular trace is the index of below Series(CaseID).\n",
        "# pd.value_counts(data['CaseID']).value_counts()\n"
      ],
      "execution_count": 0,
      "outputs": []
    },
    {
      "cell_type": "code",
      "metadata": {
        "id": "shfKmxL2uOr_",
        "colab_type": "code",
        "outputId": "3ebae2e8-0ad2-49fc-da10-90ab08a5c1a1",
        "colab": {
          "base_uri": "https://localhost:8080/",
          "height": 34
        }
      },
      "source": [
        "actS = pd.Series(data['ActivityID'] )\n",
        "actS.value_counts()\n",
        "classes = actS.max()\n",
        "#zero will be for end of trace\n",
        "print(\"number of classes(zero not included which will be denoted later as end of trace) :\" +str(classes))"
      ],
      "execution_count": 157,
      "outputs": [
        {
          "output_type": "stream",
          "text": [
            "number of classes(zero not included which will be denoted later as end of trace) :9\n"
          ],
          "name": "stdout"
        }
      ]
    },
    {
      "cell_type": "code",
      "metadata": {
        "id": "gok2yB34uR4o",
        "colab_type": "code",
        "colab": {}
      },
      "source": [
        "#converting it into datetime datatype of pandas for easy access of date, time and other operations.\n",
        "data['datetime'] = pd.to_datetime(data['CompleteTimestamp'])\n",
        "data.drop(['CompleteTimestamp'], axis=1, inplace=True)\n",
        "# data.head()\n"
      ],
      "execution_count": 0,
      "outputs": []
    },
    {
      "cell_type": "code",
      "metadata": {
        "id": "2LqZRI5hMKdv",
        "colab_type": "code",
        "outputId": "ab731c3d-c7b3-40f8-dd49-993262a96c08",
        "colab": {
          "base_uri": "https://localhost:8080/",
          "height": 34
        }
      },
      "source": [
        "#set finds the unique numbers in caseID i.e list all the unique caseIDs.\n",
        "ca_uni = list(sorted(set(data['CaseID'].values)))\n",
        "ca_uni\n",
        "numarray[2]"
      ],
      "execution_count": 159,
      "outputs": [
        {
          "output_type": "execute_result",
          "data": {
            "text/plain": [
              "3"
            ]
          },
          "metadata": {
            "tags": []
          },
          "execution_count": 159
        }
      ]
    },
    {
      "cell_type": "code",
      "metadata": {
        "id": "E4NOZX6Iu-Gk",
        "colab_type": "code",
        "colab": {}
      },
      "source": [
        "#datetime is shifted to find elapsed or concerned type of time further down the line.\n",
        "data['dapa'] = data['datetime'].shift(1)\n",
        "# data.head()"
      ],
      "execution_count": 0,
      "outputs": []
    },
    {
      "cell_type": "code",
      "metadata": {
        "id": "9XGlhMeyvjuH",
        "colab_type": "code",
        "colab": {}
      },
      "source": [
        "#difference of datetime is timedelta type in pandas which has a function called .total_seconds()\n",
        "data['elapsed'] = data['datetime'] - data['dapa']\n",
        "elapsec = [x.total_seconds() for x in data['elapsed'] ]\n",
        "# data['elapsed'].head()\n",
        "data['elap'] = elapsec\n",
        "data.drop(columns=['elapsed','dapa'],inplace = True)\n",
        "# data.head(50)\n",
        "\n",
        "# data.head(5)"
      ],
      "execution_count": 0,
      "outputs": []
    },
    {
      "cell_type": "code",
      "metadata": {
        "id": "ZmYwNC0fvmRY",
        "colab_type": "code",
        "colab": {}
      },
      "source": [
        "#case at all times denote the index of data panda, and ca_uni contains unique caseIDs, we increment case with a[i] amount i.e the number of events in that particular trace denoted by i (element of ca_uni).\n",
        "case = 0\n",
        "for i in ca_uni:\n",
        "  data.loc[case,'elap'] = 0\n",
        "  case += numarray[ i ]\n",
        "  \n",
        "# data.head(10)\n",
        "  "
      ],
      "execution_count": 0,
      "outputs": []
    },
    {
      "cell_type": "code",
      "metadata": {
        "id": "kE9ZcbePvpEr",
        "colab_type": "code",
        "colab": {}
      },
      "source": [
        "#converted the seconds into days\n",
        "data['elap'] = data['elap']/86400\n",
        "# data.head()"
      ],
      "execution_count": 0,
      "outputs": []
    },
    {
      "cell_type": "code",
      "metadata": {
        "id": "Gy9Af91AOBl_",
        "colab_type": "code",
        "colab": {}
      },
      "source": [
        "#the trace is made into a string and named sequence abstraction\n",
        "case = 0\n",
        "for i in ca_uni:\n",
        "#   data.loc[case,'elap'] = 0\n",
        "  prev = data.loc[case,'ActivityID']\n",
        "  prev = str(prev)\n",
        "  data.loc[case,'seq'] =  prev\n",
        "#   print(prev)\n",
        "  case +=1\n",
        "  for j in range(a[i]-1):\n",
        "    new = data.loc[case,'ActivityID']\n",
        "    prev = prev + str(new)\n",
        "    data.loc[case,'seq'] = prev\n",
        "    case +=1\n",
        "  \n",
        "# data.head(10)\n",
        "  "
      ],
      "execution_count": 0,
      "outputs": []
    },
    {
      "cell_type": "code",
      "metadata": {
        "id": "rONP-F6vPBfl",
        "colab_type": "code",
        "colab": {}
      },
      "source": [
        "#bag abstraction is made\n",
        "li = [\"\".join(sorted(set(st), key=st.index)) for st in data['seq'] ]\n",
        "data['bag'] = li\n",
        "count = [\"\".join( [chr(row['seq'].count(ch)+96) for ch in row['bag']] )+row['bag'] for index,row in data.iterrows()]\n",
        "data['bag'] = count\n",
        "# data.head(50)"
      ],
      "execution_count": 0,
      "outputs": []
    },
    {
      "cell_type": "code",
      "metadata": {
        "id": "nLJrizvNPn8K",
        "colab_type": "code",
        "colab": {}
      },
      "source": [
        "#set abstraction is made\n",
        "tra1 = [\"\".join(sorted(set(st), key=st.index)) for st in data['seq'] ]\n",
        "# tra2 = [\"\".join(sorted(st)) for st in tra1]\n",
        "data['set'] = tra1\n",
        "# data.head(20)"
      ],
      "execution_count": 0,
      "outputs": []
    },
    {
      "cell_type": "code",
      "metadata": {
        "id": "x3De80VnQRX5",
        "colab_type": "code",
        "colab": {}
      },
      "source": [
        "#future activity and the future elapsed time is brought on the same row\n",
        "data['future'] = data['ActivityID'].shift(-1)\n",
        "data['future_elap'] = data['elap'].shift(-1)\n",
        "# data.head(20)"
      ],
      "execution_count": 0,
      "outputs": []
    },
    {
      "cell_type": "code",
      "metadata": {
        "id": "KwaSr1Bhhg2Y",
        "colab_type": "code",
        "colab": {}
      },
      "source": [
        "#at the change of trace, values are adjusted\n",
        "case = -1\n",
        "for i in ca_uni:\n",
        "  data.loc[case,'future'] = 0\n",
        "  data.loc[case,'future_elap'] = 0\n",
        "#   print(i)\n",
        "  case += numarray[ i ]\n"
      ],
      "execution_count": 0,
      "outputs": []
    },
    {
      "cell_type": "code",
      "metadata": {
        "id": "_CX24YAk0J4I",
        "colab_type": "code",
        "colab": {}
      },
      "source": [
        "data.dropna(inplace = True)"
      ],
      "execution_count": 0,
      "outputs": []
    },
    {
      "cell_type": "markdown",
      "metadata": {
        "id": "pWyIrTV7W2eG",
        "colab_type": "text"
      },
      "source": [
        "**PREFIX DECIDE**"
      ]
    },
    {
      "cell_type": "code",
      "metadata": {
        "id": "LeD1r2qEYi_h",
        "colab_type": "code",
        "colab": {}
      },
      "source": [
        "prefix = 6"
      ],
      "execution_count": 0,
      "outputs": []
    },
    {
      "cell_type": "code",
      "metadata": {
        "id": "3YpbcA6JXE2U",
        "colab_type": "code",
        "colab": {}
      },
      "source": [
        "#actual_time contains future elapsed time, only the reasonable data rows are kept, rest are dropped\n",
        "actual_time = []\n",
        "for index,row in data.iterrows():\n",
        "  if( len(row['seq']) != prefix ):\n",
        "      data = data.drop(index)\n",
        "  else:\n",
        "      actual_time.append(row['future_elap'])\n",
        "  "
      ],
      "execution_count": 0,
      "outputs": []
    },
    {
      "cell_type": "code",
      "metadata": {
        "id": "sgUqQbeMZxMU",
        "colab_type": "code",
        "colab": {}
      },
      "source": [
        "data.reset_index(inplace = True)"
      ],
      "execution_count": 0,
      "outputs": []
    },
    {
      "cell_type": "code",
      "metadata": {
        "id": "Jpzq43BmnueA",
        "colab_type": "code",
        "colab": {}
      },
      "source": [
        "till = int(data.shape[0]*0.80)\n",
        "# till"
      ],
      "execution_count": 0,
      "outputs": []
    },
    {
      "cell_type": "code",
      "metadata": {
        "id": "JGq1xcYt2qn9",
        "colab_type": "code",
        "colab": {}
      },
      "source": [
        "#data is separated for test and train \n",
        "testdata = data.iloc[till:]\n",
        "data = data.iloc[:till]\n",
        "actual_time_train = actual_time[:till]\n",
        "actual_time_test = actual_time[till:]\n",
        "# list(actual_time)"
      ],
      "execution_count": 0,
      "outputs": []
    },
    {
      "cell_type": "code",
      "metadata": {
        "id": "KXVr-LC6ctBB",
        "colab_type": "code",
        "colab": {
          "base_uri": "https://localhost:8080/",
          "height": 34
        },
        "outputId": "512e370d-f695-42ea-adb9-c8710b06a674"
      },
      "source": [
        "testdata.shape"
      ],
      "execution_count": 175,
      "outputs": [
        {
          "output_type": "execute_result",
          "data": {
            "text/plain": [
              "(53, 10)"
            ]
          },
          "metadata": {
            "tags": []
          },
          "execution_count": 175
        }
      ]
    },
    {
      "cell_type": "code",
      "metadata": {
        "id": "M1VTPMOhn-qv",
        "colab_type": "code",
        "colab": {}
      },
      "source": [
        "from statistics import mean\n",
        "from sklearn.metrics import mean_absolute_error"
      ],
      "execution_count": 0,
      "outputs": []
    },
    {
      "cell_type": "markdown",
      "metadata": {
        "id": "oceVaaL0iRsb",
        "colab_type": "text"
      },
      "source": [
        "                                            **SET ABSTRACTION**"
      ]
    },
    {
      "cell_type": "code",
      "metadata": {
        "id": "8A48FNnPj8GZ",
        "colab_type": "code",
        "colab": {}
      },
      "source": [
        "setdic = {}"
      ],
      "execution_count": 0,
      "outputs": []
    },
    {
      "cell_type": "code",
      "metadata": {
        "id": "E2shqCUIiCnG",
        "colab_type": "code",
        "colab": {}
      },
      "source": [
        "#a dictionary is made clustering similar sequences\n",
        "for index, row in data.iterrows():\n",
        "  if row['set'] in setdic.keys():\n",
        "    setdic[row['set']][0].append(row['future'])\n",
        "    setdic[row['set']][1].append(row['elap'])\n",
        "  else:\n",
        "    setdic[row['set']] = [[],[]]\n",
        "    setdic[row['set']][0].append(row['future'])\n",
        "    setdic[row['set']][1].append(row['elap'])\n",
        "\n",
        "    \n",
        "    "
      ],
      "execution_count": 0,
      "outputs": []
    },
    {
      "cell_type": "code",
      "metadata": {
        "id": "IB6kbnhBoKl2",
        "colab_type": "code",
        "colab": {}
      },
      "source": [
        "setpred = {}"
      ],
      "execution_count": 0,
      "outputs": []
    },
    {
      "cell_type": "code",
      "metadata": {
        "id": "ugB880DfnlG4",
        "colab_type": "code",
        "colab": {}
      },
      "source": [
        "# actunk and timeunk is found for unseen sequences if occurred, \n",
        "# setpred first element is most occurred element and second element is average elapsed time\n",
        "actunk = []\n",
        "timeunk = []\n",
        "for key, value in setdic.items():\n",
        "  setpred[key] = [max(set(value[0]), key = value[0].count), mean(value[1])]\n",
        "  actunk.append(setpred[key][0])\n",
        "  timeunk.append(setpred[key][1])"
      ],
      "execution_count": 0,
      "outputs": []
    },
    {
      "cell_type": "code",
      "metadata": {
        "id": "BqlIYj5MDoL1",
        "colab_type": "code",
        "colab": {}
      },
      "source": [
        "# actunk"
      ],
      "execution_count": 0,
      "outputs": []
    },
    {
      "cell_type": "code",
      "metadata": {
        "id": "DERmfsa6ILa4",
        "colab_type": "code",
        "colab": {}
      },
      "source": [
        "#most often occurred activity is unkact\n",
        "unkact = max(actunk,key=actunk.count)\n"
      ],
      "execution_count": 0,
      "outputs": []
    },
    {
      "cell_type": "code",
      "metadata": {
        "id": "cKOKgPfDI99V",
        "colab_type": "code",
        "colab": {}
      },
      "source": [
        "# unktime is the mean of all time given\n",
        "unktime = mean(timeunk)\n"
      ],
      "execution_count": 0,
      "outputs": []
    },
    {
      "cell_type": "code",
      "metadata": {
        "id": "Cq1u_JuVqR05",
        "colab_type": "code",
        "colab": {}
      },
      "source": [
        "#predact and predtime is prepared to predict future similar sequence if occured\n",
        "predact = []\n",
        "predtime = []\n",
        "for index, row in data.iterrows():\n",
        "  predact.append(setpred[row['set']][0])\n",
        "  predtime.append(setpred[row['set']][1])\n",
        "  \n",
        "  \n",
        "actualact = list(data['future'])\n",
        "\n",
        "  "
      ],
      "execution_count": 0,
      "outputs": []
    },
    {
      "cell_type": "code",
      "metadata": {
        "id": "eoG8LSzRwqul",
        "colab_type": "code",
        "outputId": "20a166e6-9faa-4f96-cddd-813b92021ab4",
        "colab": {
          "base_uri": "https://localhost:8080/",
          "height": 34
        }
      },
      "source": [
        "trainaccuracy = sum(1 for x,y in zip(predact,actualact) if x == y) / float(len(actualact))\n",
        "trainaccuracy"
      ],
      "execution_count": 185,
      "outputs": [
        {
          "output_type": "execute_result",
          "data": {
            "text/plain": [
              "0.7666666666666667"
            ]
          },
          "metadata": {
            "tags": []
          },
          "execution_count": 185
        }
      ]
    },
    {
      "cell_type": "code",
      "metadata": {
        "id": "-tghClAdyfge",
        "colab_type": "code",
        "outputId": "fa31439c-67ca-4153-9e65-f3e3c9dd5c37",
        "colab": {
          "base_uri": "https://localhost:8080/",
          "height": 34
        }
      },
      "source": [
        "trainmae =  mean_absolute_error(predtime,actual_time_train)\n",
        "trainmae"
      ],
      "execution_count": 186,
      "outputs": [
        {
          "output_type": "execute_result",
          "data": {
            "text/plain": [
              "4.86751158643485"
            ]
          },
          "metadata": {
            "tags": []
          },
          "execution_count": 186
        }
      ]
    },
    {
      "cell_type": "code",
      "metadata": {
        "id": "GPgl348l3e5S",
        "colab_type": "code",
        "colab": {}
      },
      "source": [
        "#we predict by looking for similar occurrence of the test trace sequence, if new sequence is seen predict unktime unkact\n",
        "predact = []\n",
        "predtime = []\n",
        "for index, row in testdata.iterrows():\n",
        "  subset = row['set']\n",
        "  if (row['set'] in setpred.keys()):\n",
        "    predact.append(setpred[row['set']][0])\n",
        "    predtime.append(setpred[row['set']][1])\n",
        "    \n",
        "  else:\n",
        "    predact.append(unkact)  \n",
        "    predtime.append(unktime) \n",
        "  \n",
        "  \n",
        "actualact = list(testdata['future'])\n"
      ],
      "execution_count": 0,
      "outputs": []
    },
    {
      "cell_type": "code",
      "metadata": {
        "id": "4EMHE82x3ldF",
        "colab_type": "code",
        "outputId": "6b676180-dd72-4b52-e94f-f579a30afc4c",
        "colab": {
          "base_uri": "https://localhost:8080/",
          "height": 34
        }
      },
      "source": [
        "testaccuracy = sum(1 for x,y in zip(predact,actualact) if x == y) / float(len(actualact))\n",
        "testaccuracy"
      ],
      "execution_count": 188,
      "outputs": [
        {
          "output_type": "execute_result",
          "data": {
            "text/plain": [
              "0.7924528301886793"
            ]
          },
          "metadata": {
            "tags": []
          },
          "execution_count": 188
        }
      ]
    },
    {
      "cell_type": "code",
      "metadata": {
        "id": "3i00bz3s30Ci",
        "colab_type": "code",
        "outputId": "e96cd1e3-c4a4-4f8e-d42b-d647db86bb88",
        "colab": {
          "base_uri": "https://localhost:8080/",
          "height": 34
        }
      },
      "source": [
        "testmae =  mean_absolute_error(predtime,actual_time_test)\n",
        "testmae"
      ],
      "execution_count": 189,
      "outputs": [
        {
          "output_type": "execute_result",
          "data": {
            "text/plain": [
              "5.605752829480877"
            ]
          },
          "metadata": {
            "tags": []
          },
          "execution_count": 189
        }
      ]
    },
    {
      "cell_type": "markdown",
      "metadata": {
        "id": "bunFpCZHmfRO",
        "colab_type": "text"
      },
      "source": [
        "                                        **SEQUENCE ABSTRACTION**"
      ]
    },
    {
      "cell_type": "code",
      "metadata": {
        "id": "XErDn4P1istI",
        "colab_type": "code",
        "colab": {}
      },
      "source": [
        "seqdic= {}"
      ],
      "execution_count": 0,
      "outputs": []
    },
    {
      "cell_type": "code",
      "metadata": {
        "id": "WMoOVy5LlB6k",
        "colab_type": "code",
        "colab": {}
      },
      "source": [
        "for index, row in data.iterrows():\n",
        "  if row['seq'] in seqdic.keys():\n",
        "    seqdic[row['seq']][0].append(row['future'])\n",
        "    seqdic[row['seq']][1].append(row['elap'])\n",
        "  else:\n",
        "    seqdic[row['seq']] = [[],[]]\n",
        "    seqdic[row['seq']][0].append(row['future'])\n",
        "    seqdic[row['seq']][1].append(row['elap'])\n",
        "\n",
        "    \n",
        "    "
      ],
      "execution_count": 0,
      "outputs": []
    },
    {
      "cell_type": "code",
      "metadata": {
        "id": "vicz98sEthND",
        "colab_type": "code",
        "colab": {}
      },
      "source": [
        "seqpred = {}"
      ],
      "execution_count": 0,
      "outputs": []
    },
    {
      "cell_type": "code",
      "metadata": {
        "id": "NvNF3NzOtima",
        "colab_type": "code",
        "colab": {}
      },
      "source": [
        "actunk = []\n",
        "timeunk = []\n",
        "for key, value in seqdic.items():\n",
        "  seqpred[key] = [max(set(value[0]), key = value[0].count), mean(value[1])]\n",
        "  actunk.append(seqpred[key][0])\n",
        "  timeunk.append(seqpred[key][1])"
      ],
      "execution_count": 0,
      "outputs": []
    },
    {
      "cell_type": "code",
      "metadata": {
        "id": "Y_bWiJ33Ki59",
        "colab_type": "code",
        "colab": {}
      },
      "source": [
        "unkact = max(actunk,key=actunk.count)"
      ],
      "execution_count": 0,
      "outputs": []
    },
    {
      "cell_type": "code",
      "metadata": {
        "id": "NjprS7dyKn2n",
        "colab_type": "code",
        "outputId": "8f1929b8-eadf-414b-e322-56cf5821a19e",
        "colab": {
          "base_uri": "https://localhost:8080/",
          "height": 34
        }
      },
      "source": [
        "unktime = mean(timeunk)\n",
        "unktime"
      ],
      "execution_count": 195,
      "outputs": [
        {
          "output_type": "execute_result",
          "data": {
            "text/plain": [
              "5.359886355842375"
            ]
          },
          "metadata": {
            "tags": []
          },
          "execution_count": 195
        }
      ]
    },
    {
      "cell_type": "code",
      "metadata": {
        "id": "g9Gai1Ag0kea",
        "colab_type": "code",
        "colab": {}
      },
      "source": [
        "predact = []\n",
        "predtime = []\n",
        "for index, row in data.iterrows():\n",
        "  predact.append(seqpred[row['seq']][0])\n",
        "  predtime.append(seqpred[row['seq']][1])\n",
        "  \n",
        "  \n",
        "actualact = list(data['future'])\n"
      ],
      "execution_count": 0,
      "outputs": []
    },
    {
      "cell_type": "code",
      "metadata": {
        "id": "pjNr4By-t45D",
        "colab_type": "code",
        "outputId": "2b4e9b8c-b916-43a9-b06f-34e996cd73ea",
        "colab": {
          "base_uri": "https://localhost:8080/",
          "height": 34
        }
      },
      "source": [
        "trainaccuracy = sum(1 for x,y in zip(predact,actualact) if x == y) / float(len(actualact))\n",
        "trainaccuracy"
      ],
      "execution_count": 197,
      "outputs": [
        {
          "output_type": "execute_result",
          "data": {
            "text/plain": [
              "0.9"
            ]
          },
          "metadata": {
            "tags": []
          },
          "execution_count": 197
        }
      ]
    },
    {
      "cell_type": "code",
      "metadata": {
        "id": "cL04udJw1IvM",
        "colab_type": "code",
        "outputId": "028c6b84-4050-4ece-d2af-b452c98622f0",
        "colab": {
          "base_uri": "https://localhost:8080/",
          "height": 34
        }
      },
      "source": [
        "trainmae =  mean_absolute_error(predtime,actual_time_train)\n",
        "trainmae"
      ],
      "execution_count": 198,
      "outputs": [
        {
          "output_type": "execute_result",
          "data": {
            "text/plain": [
              "5.131954832022828"
            ]
          },
          "metadata": {
            "tags": []
          },
          "execution_count": 198
        }
      ]
    },
    {
      "cell_type": "code",
      "metadata": {
        "id": "-l7BjYbbUNuT",
        "colab_type": "code",
        "outputId": "eb135ab8-8264-4f7f-db9a-28fc9b960f7b",
        "colab": {
          "base_uri": "https://localhost:8080/",
          "height": 34
        }
      },
      "source": [
        "len(predact)"
      ],
      "execution_count": 199,
      "outputs": [
        {
          "output_type": "execute_result",
          "data": {
            "text/plain": [
              "210"
            ]
          },
          "metadata": {
            "tags": []
          },
          "execution_count": 199
        }
      ]
    },
    {
      "cell_type": "code",
      "metadata": {
        "id": "tGf3w2t44FmE",
        "colab_type": "code",
        "colab": {}
      },
      "source": [
        "predact = []\n",
        "predtime = []\n",
        "for index, row in testdata.iterrows():\n",
        "  subset = row['seq']\n",
        "  if (row['seq'] in seqpred.keys()):\n",
        "    predact.append(seqpred[row['seq']][0])\n",
        "    predtime.append(seqpred[row['seq']][1])\n",
        "  else:\n",
        "    while(subset):\n",
        "      subset = subset[1:]\n",
        "      if (not subset):\n",
        "        predact.append(unkact)\n",
        "        break\n",
        "      elif (subset in seqpred.keys()):\n",
        "        predact.append(seqpred[subset][0])\n",
        "        break\n",
        "    predtime.append(unktime)\n",
        "      \n",
        "  \n",
        "actualact = list(testdata['future'])\n"
      ],
      "execution_count": 0,
      "outputs": []
    },
    {
      "cell_type": "code",
      "metadata": {
        "id": "ypmcInTS4Joo",
        "colab_type": "code",
        "outputId": "0569a68a-5072-4691-fae3-45bd87ff0641",
        "colab": {
          "base_uri": "https://localhost:8080/",
          "height": 34
        }
      },
      "source": [
        "testaccuracy = sum(1 for x,y in zip(predact,actualact) if x == y) / float(len(actualact))\n",
        "testaccuracy"
      ],
      "execution_count": 201,
      "outputs": [
        {
          "output_type": "execute_result",
          "data": {
            "text/plain": [
              "0.8113207547169812"
            ]
          },
          "metadata": {
            "tags": []
          },
          "execution_count": 201
        }
      ]
    },
    {
      "cell_type": "code",
      "metadata": {
        "id": "WitH1Q5K4MU2",
        "colab_type": "code",
        "outputId": "f22a7015-cd8b-4ea7-b474-0aec545dccd1",
        "colab": {
          "base_uri": "https://localhost:8080/",
          "height": 34
        }
      },
      "source": [
        "testmae =  mean_absolute_error(predtime,actual_time_test)\n",
        "testmae"
      ],
      "execution_count": 202,
      "outputs": [
        {
          "output_type": "execute_result",
          "data": {
            "text/plain": [
              "5.848740427639282"
            ]
          },
          "metadata": {
            "tags": []
          },
          "execution_count": 202
        }
      ]
    },
    {
      "cell_type": "markdown",
      "metadata": {
        "id": "DNMTOp_XnGu_",
        "colab_type": "text"
      },
      "source": [
        "                                        **BAG ABSTRACTION**"
      ]
    },
    {
      "cell_type": "markdown",
      "metadata": {
        "id": "ujWKUD01ueVq",
        "colab_type": "text"
      },
      "source": [
        "check if bag is right or not like sequence matters or not a6b5c4 and b5a6c4"
      ]
    },
    {
      "cell_type": "code",
      "metadata": {
        "id": "e6kM4d5Gm4ZT",
        "colab_type": "code",
        "colab": {}
      },
      "source": [
        "bagdic= {}"
      ],
      "execution_count": 0,
      "outputs": []
    },
    {
      "cell_type": "code",
      "metadata": {
        "id": "baHcntdnm8sn",
        "colab_type": "code",
        "colab": {}
      },
      "source": [
        "for index, row in data.iterrows():\n",
        "  if row['bag'] in bagdic.keys():\n",
        "    bagdic[row['bag']][0].append(row['future'])\n",
        "    bagdic[row['bag']][1].append(row['elap'])\n",
        "  else:\n",
        "    bagdic[row['bag']] = [[],[]]\n",
        "    bagdic[row['bag']][0].append(row['future'])\n",
        "    bagdic[row['bag']][1].append(row['elap'])\n",
        "\n",
        "    \n",
        "    "
      ],
      "execution_count": 0,
      "outputs": []
    },
    {
      "cell_type": "code",
      "metadata": {
        "id": "MLf1DxxYnUL_",
        "colab_type": "code",
        "colab": {}
      },
      "source": [
        "bagpred = {}"
      ],
      "execution_count": 0,
      "outputs": []
    },
    {
      "cell_type": "code",
      "metadata": {
        "id": "w0pJItYbnW-0",
        "colab_type": "code",
        "colab": {}
      },
      "source": [
        "actunk = []\n",
        "timeunk = []\n",
        "for key, value in bagdic.items():\n",
        "  bagpred[key] = [max(set(value[0]), key = value[0].count), mean(value[1])]\n",
        "  actunk.append(bagpred[key][0])\n",
        "  timeunk.append(bagpred[key][1])"
      ],
      "execution_count": 0,
      "outputs": []
    },
    {
      "cell_type": "code",
      "metadata": {
        "id": "PfTmEY9oLXI6",
        "colab_type": "code",
        "colab": {}
      },
      "source": [
        "unkact = max(actunk,key=actunk.count)"
      ],
      "execution_count": 0,
      "outputs": []
    },
    {
      "cell_type": "code",
      "metadata": {
        "id": "urs-anKALbKN",
        "colab_type": "code",
        "outputId": "aeea5bd3-4d26-4903-e720-e72e89c961a3",
        "colab": {
          "base_uri": "https://localhost:8080/",
          "height": 34
        }
      },
      "source": [
        "unktime = mean(timeunk)\n",
        "unktime"
      ],
      "execution_count": 208,
      "outputs": [
        {
          "output_type": "execute_result",
          "data": {
            "text/plain": [
              "6.063167770324303"
            ]
          },
          "metadata": {
            "tags": []
          },
          "execution_count": 208
        }
      ]
    },
    {
      "cell_type": "code",
      "metadata": {
        "id": "HTtRuFdhtxxR",
        "colab_type": "code",
        "colab": {}
      },
      "source": [
        "predact = []\n",
        "predtime = []\n",
        "for index, row in data.iterrows():\n",
        "  predact.append(bagpred[row['bag']][0])\n",
        "  predtime.append(bagpred[row['bag']][1])\n",
        "  \n",
        "  \n",
        "actualact = list(data['future'])\n"
      ],
      "execution_count": 0,
      "outputs": []
    },
    {
      "cell_type": "code",
      "metadata": {
        "id": "TcSIwtf31SW2",
        "colab_type": "code",
        "outputId": "f3d9b82a-5648-4ced-f68a-3e66ef6d9adc",
        "colab": {
          "base_uri": "https://localhost:8080/",
          "height": 34
        }
      },
      "source": [
        "trainaccuracy = sum(1 for x,y in zip(predact,actualact) if x == y) / float(len(actualact))\n",
        "trainaccuracy"
      ],
      "execution_count": 210,
      "outputs": [
        {
          "output_type": "execute_result",
          "data": {
            "text/plain": [
              "0.8047619047619048"
            ]
          },
          "metadata": {
            "tags": []
          },
          "execution_count": 210
        }
      ]
    },
    {
      "cell_type": "code",
      "metadata": {
        "id": "DIdEpJro1Utr",
        "colab_type": "code",
        "outputId": "36fb3632-ef10-43ec-ccd1-b028fd22fa65",
        "colab": {
          "base_uri": "https://localhost:8080/",
          "height": 34
        }
      },
      "source": [
        "trainmae =  mean_absolute_error(predtime,actual_time_train)\n",
        "trainmae"
      ],
      "execution_count": 211,
      "outputs": [
        {
          "output_type": "execute_result",
          "data": {
            "text/plain": [
              "4.999120290782667"
            ]
          },
          "metadata": {
            "tags": []
          },
          "execution_count": 211
        }
      ]
    },
    {
      "cell_type": "code",
      "metadata": {
        "id": "gKWpzdfG4VLt",
        "colab_type": "code",
        "colab": {}
      },
      "source": [
        "predact = []\n",
        "predtime = []\n",
        "for index, row in testdata.iterrows():\n",
        "  subset = row['bag']\n",
        "  if (row['bag'] in bagpred.keys()):\n",
        "    predact.append(bagpred[row['bag']][0])\n",
        "    predtime.append(bagpred[row['bag']][1])\n",
        "  else:\n",
        "    while(subset):\n",
        "      subset = subset[1:]\n",
        "      if (not subset):\n",
        "        predact.append(unkact)\n",
        "        break\n",
        "      elif (subset in bagpred.keys()):\n",
        "        predact.append(bagpred[subset][0])\n",
        "        break\n",
        "    predtime.append(unktime)\n",
        "  \n",
        "actualact = list(testdata['future'])\n"
      ],
      "execution_count": 0,
      "outputs": []
    },
    {
      "cell_type": "code",
      "metadata": {
        "id": "8qrRKjEu1coY",
        "colab_type": "code",
        "outputId": "22ec54cd-0b2c-4790-ede3-60abdfd68ec7",
        "colab": {
          "base_uri": "https://localhost:8080/",
          "height": 34
        }
      },
      "source": [
        "testaccuracy = sum(1 for x,y in zip(predact,actualact) if x == y) / float(len(actualact))\n",
        "testaccuracy"
      ],
      "execution_count": 213,
      "outputs": [
        {
          "output_type": "execute_result",
          "data": {
            "text/plain": [
              "0.7924528301886793"
            ]
          },
          "metadata": {
            "tags": []
          },
          "execution_count": 213
        }
      ]
    },
    {
      "cell_type": "code",
      "metadata": {
        "id": "7KyWOoDK4bYN",
        "colab_type": "code",
        "outputId": "1eeb1f0b-abad-4d27-ef91-c48b43325406",
        "colab": {
          "base_uri": "https://localhost:8080/",
          "height": 34
        }
      },
      "source": [
        "testmae =  mean_absolute_error(predtime,actual_time_test)\n",
        "testmae"
      ],
      "execution_count": 214,
      "outputs": [
        {
          "output_type": "execute_result",
          "data": {
            "text/plain": [
              "5.369718103605685"
            ]
          },
          "metadata": {
            "tags": []
          },
          "execution_count": 214
        }
      ]
    }
  ]
}