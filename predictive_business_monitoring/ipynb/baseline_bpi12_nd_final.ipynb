{
  "nbformat": 4,
  "nbformat_minor": 0,
  "metadata": {
    "colab": {
      "name": "baseline_helpdesk_final.ipynb",
      "version": "0.3.2",
      "provenance": []
    },
    "kernelspec": {
      "name": "python3",
      "display_name": "Python 3"
    }
  },
  "cells": [
    {
      "cell_type": "code",
      "metadata": {
        "id": "Lz58qZlMt4-1",
        "colab_type": "code",
        "colab": {}
      },
      "source": [
        "import pandas as pd\n",
        "import numpy as np\n",
        "import keras\n",
        "from keras.preprocessing.text import Tokenizer\n",
        "from keras.preprocessing.sequence import pad_sequences\n",
        "from keras.models import Sequential\n",
        "from keras.layers import Dense, Embedding, LSTM, Dropout, Activation, Flatten\n",
        "from sklearn.model_selection import train_test_split\n",
        "from keras.utils.np_utils import to_categorical\n",
        "from keras.layers.normalization import BatchNormalization"
      ],
      "execution_count": 0,
      "outputs": []
    },
    {
      "cell_type": "code",
      "metadata": {
        "id": "I603uMBQt6tj",
        "colab_type": "code",
        "colab": {}
      },
      "source": [
        "import sklearn\n",
        "from sklearn.utils import shuffle\n",
        "from datetime import datetime\n",
        "from datetime import timedelta\n",
        "from sklearn.preprocessing import MinMaxScaler,StandardScaler\n",
        "from scipy import stats\n",
        "import matplotlib.pyplot as plt"
      ],
      "execution_count": 0,
      "outputs": []
    },
    {
      "cell_type": "code",
      "metadata": {
        "id": "K0v8hR2v-WwN",
        "colab_type": "code",
        "colab": {}
      },
      "source": [
        "#import the csv\n",
        "data = pd.read_csv('bpi_12_w_no_repeat.csv')\n",
        "np.sum(data.isna())\n",
        "# data['CompleteTimestamp'][0].day\n",
        "d = data"
      ],
      "execution_count": 0,
      "outputs": []
    },
    {
      "cell_type": "code",
      "metadata": {
        "id": "NqNKCf-900Vu",
        "colab_type": "code",
        "colab": {
          "base_uri": "https://localhost:8080/",
          "height": 359
        },
        "outputId": "d18a7eb9-5755-4059-d9ba-1a2af4b15126"
      },
      "source": [
        "data['CaseID'] = data['CaseID'] - 173688 \n",
        "data.head(10)"
      ],
      "execution_count": 508,
      "outputs": [
        {
          "output_type": "execute_result",
          "data": {
            "text/html": [
              "<div>\n",
              "<style scoped>\n",
              "    .dataframe tbody tr th:only-of-type {\n",
              "        vertical-align: middle;\n",
              "    }\n",
              "\n",
              "    .dataframe tbody tr th {\n",
              "        vertical-align: top;\n",
              "    }\n",
              "\n",
              "    .dataframe thead th {\n",
              "        text-align: right;\n",
              "    }\n",
              "</style>\n",
              "<table border=\"1\" class=\"dataframe\">\n",
              "  <thead>\n",
              "    <tr style=\"text-align: right;\">\n",
              "      <th></th>\n",
              "      <th>CaseID</th>\n",
              "      <th>ActivityID</th>\n",
              "      <th>CompleteTimestamp</th>\n",
              "    </tr>\n",
              "  </thead>\n",
              "  <tbody>\n",
              "    <tr>\n",
              "      <th>0</th>\n",
              "      <td>0</td>\n",
              "      <td>3</td>\n",
              "      <td>2011-10-01 19:45:13</td>\n",
              "    </tr>\n",
              "    <tr>\n",
              "      <th>1</th>\n",
              "      <td>0</td>\n",
              "      <td>5</td>\n",
              "      <td>2011-10-01 20:17:08</td>\n",
              "    </tr>\n",
              "    <tr>\n",
              "      <th>2</th>\n",
              "      <td>0</td>\n",
              "      <td>6</td>\n",
              "      <td>2011-10-13 18:37:37</td>\n",
              "    </tr>\n",
              "    <tr>\n",
              "      <th>3</th>\n",
              "      <td>3</td>\n",
              "      <td>3</td>\n",
              "      <td>2011-10-01 19:43:13</td>\n",
              "    </tr>\n",
              "    <tr>\n",
              "      <th>4</th>\n",
              "      <td>3</td>\n",
              "      <td>5</td>\n",
              "      <td>2011-10-01 22:36:25</td>\n",
              "    </tr>\n",
              "    <tr>\n",
              "      <th>5</th>\n",
              "      <td>3</td>\n",
              "      <td>6</td>\n",
              "      <td>2011-10-10 19:30:54</td>\n",
              "    </tr>\n",
              "    <tr>\n",
              "      <th>6</th>\n",
              "      <td>3</td>\n",
              "      <td>6</td>\n",
              "      <td>2011-10-10 22:17:34</td>\n",
              "    </tr>\n",
              "    <tr>\n",
              "      <th>7</th>\n",
              "      <td>6</td>\n",
              "      <td>3</td>\n",
              "      <td>2011-10-01 19:35:59</td>\n",
              "    </tr>\n",
              "    <tr>\n",
              "      <th>8</th>\n",
              "      <td>6</td>\n",
              "      <td>5</td>\n",
              "      <td>2011-10-03 21:44:21</td>\n",
              "    </tr>\n",
              "    <tr>\n",
              "      <th>9</th>\n",
              "      <td>6</td>\n",
              "      <td>6</td>\n",
              "      <td>2011-11-05 1:05:01</td>\n",
              "    </tr>\n",
              "  </tbody>\n",
              "</table>\n",
              "</div>"
            ],
            "text/plain": [
              "   CaseID  ActivityID    CompleteTimestamp\n",
              "0       0           3  2011-10-01 19:45:13\n",
              "1       0           5  2011-10-01 20:17:08\n",
              "2       0           6  2011-10-13 18:37:37\n",
              "3       3           3  2011-10-01 19:43:13\n",
              "4       3           5  2011-10-01 22:36:25\n",
              "5       3           6  2011-10-10 19:30:54\n",
              "6       3           6  2011-10-10 22:17:34\n",
              "7       6           3  2011-10-01 19:35:59\n",
              "8       6           5  2011-10-03 21:44:21\n",
              "9       6           6   2011-11-05 1:05:01"
            ]
          },
          "metadata": {
            "tags": []
          },
          "execution_count": 508
        }
      ]
    },
    {
      "cell_type": "code",
      "metadata": {
        "id": "W9r7eD9at-rR",
        "colab_type": "code",
        "outputId": "d0cf766a-43e6-45e7-e515-aee0e242a3ab",
        "colab": {
          "base_uri": "https://localhost:8080/",
          "height": 51
        }
      },
      "source": [
        "#given the caseID, array 'a' outputs the number of events in  that particular caseID trace.\n",
        "caseS = pd.Series(data['CaseID'] )\n",
        "a = caseS.value_counts()\n",
        "print(\"Number of events in trace caseID 0 :\" + str(a[0]))\n",
        "a[3]"
      ],
      "execution_count": 509,
      "outputs": [
        {
          "output_type": "stream",
          "text": [
            "Number of events in trace caseID 0 :3\n"
          ],
          "name": "stdout"
        },
        {
          "output_type": "execute_result",
          "data": {
            "text/plain": [
              "4"
            ]
          },
          "metadata": {
            "tags": []
          },
          "execution_count": 509
        }
      ]
    },
    {
      "cell_type": "code",
      "metadata": {
        "id": "2rOTJoy6uLwo",
        "colab_type": "code",
        "colab": {}
      },
      "source": [
        "# outputs the number of traces where the number of events in the particular trace is the index of below Series(CaseID).\n",
        "# pd.value_counts(data['CaseID']).value_counts()\n"
      ],
      "execution_count": 0,
      "outputs": []
    },
    {
      "cell_type": "code",
      "metadata": {
        "id": "shfKmxL2uOr_",
        "colab_type": "code",
        "outputId": "1a7dba12-5223-4d0f-a170-a66339308c8f",
        "colab": {
          "base_uri": "https://localhost:8080/",
          "height": 153
        }
      },
      "source": [
        "actS = pd.Series(data['ActivityID'] )\n",
        "actS.value_counts()\n",
        "classes = actS.max()\n",
        "#zero will be for end of trace\n",
        "print(\"number of classes(zero not included which will be denoted later as end of trace) :\" +str(classes))\n",
        "actS.value_counts()"
      ],
      "execution_count": 510,
      "outputs": [
        {
          "output_type": "stream",
          "text": [
            "number of classes(zero not included which will be denoted later as end of trace) :6\n"
          ],
          "name": "stdout"
        },
        {
          "output_type": "execute_result",
          "data": {
            "text/plain": [
              "3    9089\n",
              "5    6641\n",
              "6    5890\n",
              "1    5127\n",
              "4    2482\n",
              "2     181\n",
              "Name: ActivityID, dtype: int64"
            ]
          },
          "metadata": {
            "tags": []
          },
          "execution_count": 510
        }
      ]
    },
    {
      "cell_type": "code",
      "metadata": {
        "id": "gok2yB34uR4o",
        "colab_type": "code",
        "colab": {}
      },
      "source": [
        "#converting it into datetime datatype of pandas for easy access of date, time and other operations.\n",
        "data['datetime'] = pd.to_datetime(data['CompleteTimestamp'])\n",
        "data.drop(['CompleteTimestamp'], axis=1, inplace=True)\n",
        "# data.head()\n"
      ],
      "execution_count": 0,
      "outputs": []
    },
    {
      "cell_type": "code",
      "metadata": {
        "id": "gsHrKWX6uc4I",
        "colab_type": "code",
        "colab": {
          "base_uri": "https://localhost:8080/",
          "height": 204
        },
        "outputId": "165b5551-8bbc-49a7-ed12-21dce80e56fe"
      },
      "source": [
        "data.head()"
      ],
      "execution_count": 512,
      "outputs": [
        {
          "output_type": "execute_result",
          "data": {
            "text/html": [
              "<div>\n",
              "<style scoped>\n",
              "    .dataframe tbody tr th:only-of-type {\n",
              "        vertical-align: middle;\n",
              "    }\n",
              "\n",
              "    .dataframe tbody tr th {\n",
              "        vertical-align: top;\n",
              "    }\n",
              "\n",
              "    .dataframe thead th {\n",
              "        text-align: right;\n",
              "    }\n",
              "</style>\n",
              "<table border=\"1\" class=\"dataframe\">\n",
              "  <thead>\n",
              "    <tr style=\"text-align: right;\">\n",
              "      <th></th>\n",
              "      <th>CaseID</th>\n",
              "      <th>ActivityID</th>\n",
              "      <th>datetime</th>\n",
              "    </tr>\n",
              "  </thead>\n",
              "  <tbody>\n",
              "    <tr>\n",
              "      <th>0</th>\n",
              "      <td>0</td>\n",
              "      <td>3</td>\n",
              "      <td>2011-10-01 19:45:13</td>\n",
              "    </tr>\n",
              "    <tr>\n",
              "      <th>1</th>\n",
              "      <td>0</td>\n",
              "      <td>5</td>\n",
              "      <td>2011-10-01 20:17:08</td>\n",
              "    </tr>\n",
              "    <tr>\n",
              "      <th>2</th>\n",
              "      <td>0</td>\n",
              "      <td>6</td>\n",
              "      <td>2011-10-13 18:37:37</td>\n",
              "    </tr>\n",
              "    <tr>\n",
              "      <th>3</th>\n",
              "      <td>3</td>\n",
              "      <td>3</td>\n",
              "      <td>2011-10-01 19:43:13</td>\n",
              "    </tr>\n",
              "    <tr>\n",
              "      <th>4</th>\n",
              "      <td>3</td>\n",
              "      <td>5</td>\n",
              "      <td>2011-10-01 22:36:25</td>\n",
              "    </tr>\n",
              "  </tbody>\n",
              "</table>\n",
              "</div>"
            ],
            "text/plain": [
              "   CaseID  ActivityID            datetime\n",
              "0       0           3 2011-10-01 19:45:13\n",
              "1       0           5 2011-10-01 20:17:08\n",
              "2       0           6 2011-10-13 18:37:37\n",
              "3       3           3 2011-10-01 19:43:13\n",
              "4       3           5 2011-10-01 22:36:25"
            ]
          },
          "metadata": {
            "tags": []
          },
          "execution_count": 512
        }
      ]
    },
    {
      "cell_type": "code",
      "metadata": {
        "id": "2LqZRI5hMKdv",
        "colab_type": "code",
        "colab": {
          "base_uri": "https://localhost:8080/",
          "height": 34
        },
        "outputId": "a5ff22b0-0540-4e48-ab3e-1834f72e829f"
      },
      "source": [
        "#set finds the unique numbers in caseID i.e list all the unique caseIDs.\n",
        "ca_uni = list(sorted(set(data['CaseID'].values)))\n",
        "ca_uni\n",
        "a[0]"
      ],
      "execution_count": 513,
      "outputs": [
        {
          "output_type": "execute_result",
          "data": {
            "text/plain": [
              "3"
            ]
          },
          "metadata": {
            "tags": []
          },
          "execution_count": 513
        }
      ]
    },
    {
      "cell_type": "code",
      "metadata": {
        "id": "rVOV-mU0udQA",
        "colab_type": "code",
        "colab": {}
      },
      "source": [
        "# data.head()"
      ],
      "execution_count": 0,
      "outputs": []
    },
    {
      "cell_type": "code",
      "metadata": {
        "id": "XrVE2uiXt5qG",
        "colab_type": "code",
        "colab": {}
      },
      "source": [
        ""
      ],
      "execution_count": 0,
      "outputs": []
    },
    {
      "cell_type": "code",
      "metadata": {
        "id": "E4NOZX6Iu-Gk",
        "colab_type": "code",
        "colab": {}
      },
      "source": [
        "#datetime is shifted to find elapsed or concerned type of time further down the line.\n",
        "data['dapa'] = data['datetime'].shift(1)\n",
        "# data.head()"
      ],
      "execution_count": 0,
      "outputs": []
    },
    {
      "cell_type": "code",
      "metadata": {
        "id": "v2DFr9l5t8l2",
        "colab_type": "code",
        "colab": {}
      },
      "source": [
        ""
      ],
      "execution_count": 0,
      "outputs": []
    },
    {
      "cell_type": "code",
      "metadata": {
        "id": "9XGlhMeyvjuH",
        "colab_type": "code",
        "colab": {}
      },
      "source": [
        "#difference of datetime is timedelta type in pandas which has a function called .total_seconds()\n",
        "data['elapsed'] = data['datetime'] - data['dapa']\n",
        "b = [x.total_seconds() for x in data['elapsed'] ]\n",
        "# data['elapsed'].head()\n",
        "data['elap'] = b\n",
        "data.drop(columns=['elapsed','dapa'],inplace = True)\n",
        "# data.head(50)\n",
        "\n",
        "# data.head(5)"
      ],
      "execution_count": 0,
      "outputs": []
    },
    {
      "cell_type": "code",
      "metadata": {
        "id": "ZmYwNC0fvmRY",
        "colab_type": "code",
        "colab": {}
      },
      "source": [
        "#case at all times denote the index of data panda, and ca_uni contains unique caseIDs, we increment case with a[i] amount i.e the number of events in that particular trace denoted by i (element of ca_uni).\n",
        "case = 0\n",
        "for i in ca_uni:\n",
        "  data.loc[case,'elap'] = 0\n",
        "  case += a[ i ]\n",
        "  \n",
        "# data.head(10)\n",
        "  "
      ],
      "execution_count": 0,
      "outputs": []
    },
    {
      "cell_type": "code",
      "metadata": {
        "id": "kE9ZcbePvpEr",
        "colab_type": "code",
        "colab": {}
      },
      "source": [
        "#converted the seconds into days\n",
        "data['elap'] = data['elap']/86400\n",
        "# data.head()"
      ],
      "execution_count": 0,
      "outputs": []
    },
    {
      "cell_type": "code",
      "metadata": {
        "id": "Gy9Af91AOBl_",
        "colab_type": "code",
        "colab": {}
      },
      "source": [
        "#the trace is made into a string and named sequence abstraction\n",
        "case = 0\n",
        "for i in ca_uni:\n",
        "#   data.loc[case,'elap'] = 0\n",
        "  prev = data.loc[case,'ActivityID']\n",
        "  prev = str(prev)\n",
        "  data.loc[case,'seq'] =  prev\n",
        "#   print(prev)\n",
        "  case +=1\n",
        "  for j in range(a[i]-1):\n",
        "    new = data.loc[case,'ActivityID']\n",
        "    prev = prev + str(new)\n",
        "    data.loc[case,'seq'] = prev\n",
        "    case +=1\n",
        "  \n",
        "# data.head(10)\n",
        "  "
      ],
      "execution_count": 0,
      "outputs": []
    },
    {
      "cell_type": "code",
      "metadata": {
        "id": "rONP-F6vPBfl",
        "colab_type": "code",
        "colab": {}
      },
      "source": [
        "#bag abstraction is made\n",
        "li = [\"\".join(sorted(set(st), key=st.index)) for st in data['seq'] ]\n",
        "data['bag'] = li\n",
        "count = [\"\".join( [chr(row['seq'].count(ch)+96) for ch in row['bag']] )+row['bag'] for index,row in data.iterrows()]\n",
        "data['bag'] = count\n",
        "# data.head(50)"
      ],
      "execution_count": 0,
      "outputs": []
    },
    {
      "cell_type": "code",
      "metadata": {
        "id": "nLJrizvNPn8K",
        "colab_type": "code",
        "colab": {}
      },
      "source": [
        "#set abstraction is made\n",
        "tra1 = [\"\".join(sorted(set(st), key=st.index)) for st in data['seq'] ]\n",
        "# tra2 = [\"\".join(sorted(st)) for st in tra1]\n",
        "data['set'] = tra1\n",
        "# data.head(20)"
      ],
      "execution_count": 0,
      "outputs": []
    },
    {
      "cell_type": "code",
      "metadata": {
        "id": "x3De80VnQRX5",
        "colab_type": "code",
        "colab": {}
      },
      "source": [
        "#future activity and the future elapsed time is brought on the same row\n",
        "data['future'] = data['ActivityID'].shift(-1)\n",
        "data['future_elap'] = data['elap'].shift(-1)\n",
        "# data.head(20)"
      ],
      "execution_count": 0,
      "outputs": []
    },
    {
      "cell_type": "code",
      "metadata": {
        "id": "KwaSr1Bhhg2Y",
        "colab_type": "code",
        "colab": {}
      },
      "source": [
        "#at the change of trace, values are adjusted\n",
        "case = -1\n",
        "for i in ca_uni:\n",
        "  data.loc[case,'future'] = 0\n",
        "  data.loc[case,'future_elap'] = 0\n",
        "#   print(i)\n",
        "  case += a[ i ]\n"
      ],
      "execution_count": 0,
      "outputs": []
    },
    {
      "cell_type": "code",
      "metadata": {
        "id": "_CX24YAk0J4I",
        "colab_type": "code",
        "colab": {}
      },
      "source": [
        "data.dropna(inplace = True)"
      ],
      "execution_count": 0,
      "outputs": []
    },
    {
      "cell_type": "markdown",
      "metadata": {
        "id": "pWyIrTV7W2eG",
        "colab_type": "text"
      },
      "source": [
        "**PREFIX DECIDE**"
      ]
    },
    {
      "cell_type": "code",
      "metadata": {
        "id": "LeD1r2qEYi_h",
        "colab_type": "code",
        "colab": {}
      },
      "source": [
        "prefix = 2"
      ],
      "execution_count": 0,
      "outputs": []
    },
    {
      "cell_type": "code",
      "metadata": {
        "id": "3YpbcA6JXE2U",
        "colab_type": "code",
        "colab": {}
      },
      "source": [
        "#actual_time contains future elapsed time, only the reasonable data rows are kept, rest are dropped\n",
        "actual_time = []\n",
        "for index,row in data.iterrows():\n",
        "  if( len(row['seq']) != prefix ):\n",
        "      data = data.drop(index)\n",
        "  else:\n",
        "      actual_time.append(row['future_elap'])\n",
        "  "
      ],
      "execution_count": 0,
      "outputs": []
    },
    {
      "cell_type": "code",
      "metadata": {
        "id": "sgUqQbeMZxMU",
        "colab_type": "code",
        "colab": {}
      },
      "source": [
        "data.reset_index(inplace = True)"
      ],
      "execution_count": 0,
      "outputs": []
    },
    {
      "cell_type": "code",
      "metadata": {
        "id": "Jpzq43BmnueA",
        "colab_type": "code",
        "outputId": "6fed07fa-935a-475d-8480-e31c0c41bbee",
        "colab": {
          "base_uri": "https://localhost:8080/",
          "height": 34
        }
      },
      "source": [
        "till = int(data.shape[0]*0.80)\n",
        "till"
      ],
      "execution_count": 536,
      "outputs": [
        {
          "output_type": "execute_result",
          "data": {
            "text/plain": [
              "767"
            ]
          },
          "metadata": {
            "tags": []
          },
          "execution_count": 536
        }
      ]
    },
    {
      "cell_type": "code",
      "metadata": {
        "id": "JGq1xcYt2qn9",
        "colab_type": "code",
        "colab": {}
      },
      "source": [
        "#data is separated for test and train \n",
        "testdata = data.iloc[till:]\n",
        "data = data.iloc[:till]\n",
        "actual_time_train = actual_time[:till]\n",
        "actual_time_test = actual_time[till:]\n",
        "# list(actual_time)"
      ],
      "execution_count": 0,
      "outputs": []
    },
    {
      "cell_type": "code",
      "metadata": {
        "id": "M1VTPMOhn-qv",
        "colab_type": "code",
        "colab": {}
      },
      "source": [
        "from statistics import mean\n",
        "from sklearn.metrics import mean_absolute_error"
      ],
      "execution_count": 0,
      "outputs": []
    },
    {
      "cell_type": "markdown",
      "metadata": {
        "id": "oceVaaL0iRsb",
        "colab_type": "text"
      },
      "source": [
        "                                            **SET ABSTRACTION**"
      ]
    },
    {
      "cell_type": "code",
      "metadata": {
        "id": "8A48FNnPj8GZ",
        "colab_type": "code",
        "colab": {}
      },
      "source": [
        "setdic = {}"
      ],
      "execution_count": 0,
      "outputs": []
    },
    {
      "cell_type": "code",
      "metadata": {
        "id": "E2shqCUIiCnG",
        "colab_type": "code",
        "colab": {}
      },
      "source": [
        "#a dictionary is made clustering similar sequences\n",
        "for index, row in data.iterrows():\n",
        "  if row['set'] in setdic.keys():\n",
        "    setdic[row['set']][0].append(row['future'])\n",
        "    setdic[row['set']][1].append(row['elap'])\n",
        "  else:\n",
        "    setdic[row['set']] = [[],[]]\n",
        "    setdic[row['set']][0].append(row['future'])\n",
        "    setdic[row['set']][1].append(row['elap'])\n",
        "\n",
        "    \n",
        "    "
      ],
      "execution_count": 0,
      "outputs": []
    },
    {
      "cell_type": "code",
      "metadata": {
        "id": "IB6kbnhBoKl2",
        "colab_type": "code",
        "colab": {}
      },
      "source": [
        "setpred = {}"
      ],
      "execution_count": 0,
      "outputs": []
    },
    {
      "cell_type": "code",
      "metadata": {
        "id": "ugB880DfnlG4",
        "colab_type": "code",
        "colab": {}
      },
      "source": [
        "# actunk and timeunk is found for unseen sequences if occurred, \n",
        "# setpred first element is most occurred element and second element is average elapsed time\n",
        "actunk = []\n",
        "timeunk = []\n",
        "for key, value in setdic.items():\n",
        "  setpred[key] = [max(set(value[0]), key = value[0].count), mean(value[1])]\n",
        "  actunk.append(setpred[key][0])\n",
        "  timeunk.append(setpred[key][1])"
      ],
      "execution_count": 0,
      "outputs": []
    },
    {
      "cell_type": "code",
      "metadata": {
        "id": "BqlIYj5MDoL1",
        "colab_type": "code",
        "colab": {
          "base_uri": "https://localhost:8080/",
          "height": 34
        },
        "outputId": "d8500ffe-2ded-4e71-b696-99bf73e034f0"
      },
      "source": [
        "# actunk"
      ],
      "execution_count": 548,
      "outputs": [
        {
          "output_type": "execute_result",
          "data": {
            "text/plain": [
              "[0.0, 0.0, 4.0, 6.0, 6.0, 4.0, 0.0, 0.0, 0.0, 0.0]"
            ]
          },
          "metadata": {
            "tags": []
          },
          "execution_count": 548
        }
      ]
    },
    {
      "cell_type": "code",
      "metadata": {
        "id": "DERmfsa6ILa4",
        "colab_type": "code",
        "outputId": "8c815f2c-6647-45b6-bd73-6b553860e3e7",
        "colab": {
          "base_uri": "https://localhost:8080/",
          "height": 34
        }
      },
      "source": [
        "#most often occurred activity is unkact\n",
        "unkact = max(actunk,key=actunk.count)\n"
      ],
      "execution_count": 549,
      "outputs": [
        {
          "output_type": "execute_result",
          "data": {
            "text/plain": [
              "0.0"
            ]
          },
          "metadata": {
            "tags": []
          },
          "execution_count": 549
        }
      ]
    },
    {
      "cell_type": "code",
      "metadata": {
        "id": "cKOKgPfDI99V",
        "colab_type": "code",
        "outputId": "2dca73a5-a6e2-4bc3-8d84-321fba556612",
        "colab": {
          "base_uri": "https://localhost:8080/",
          "height": 34
        }
      },
      "source": [
        "# unktime is the mean of all time given\n",
        "unktime = mean(timeunk)\n"
      ],
      "execution_count": 550,
      "outputs": [
        {
          "output_type": "execute_result",
          "data": {
            "text/plain": [
              "4.66954886809479"
            ]
          },
          "metadata": {
            "tags": []
          },
          "execution_count": 550
        }
      ]
    },
    {
      "cell_type": "code",
      "metadata": {
        "id": "Cq1u_JuVqR05",
        "colab_type": "code",
        "colab": {}
      },
      "source": [
        "#predact and predtime is prepared to predict future similar sequence if occured\n",
        "predact = []\n",
        "predtime = []\n",
        "for index, row in data.iterrows():\n",
        "  predact.append(setpred[row['set']][0])\n",
        "  predtime.append(setpred[row['set']][1])\n",
        "  \n",
        "  \n",
        "actualact = list(data['future'])\n",
        "\n",
        "  "
      ],
      "execution_count": 0,
      "outputs": []
    },
    {
      "cell_type": "code",
      "metadata": {
        "id": "eoG8LSzRwqul",
        "colab_type": "code",
        "outputId": "7d86c9b3-aabd-495b-d4ae-0f47f82af8c8",
        "colab": {
          "base_uri": "https://localhost:8080/",
          "height": 34
        }
      },
      "source": [
        "trainaccuracy = sum(1 for x,y in zip(predact,actualact) if x == y) / float(len(actualact))\n",
        "trainaccuracy"
      ],
      "execution_count": 552,
      "outputs": [
        {
          "output_type": "execute_result",
          "data": {
            "text/plain": [
              "0.5058670143415906"
            ]
          },
          "metadata": {
            "tags": []
          },
          "execution_count": 552
        }
      ]
    },
    {
      "cell_type": "code",
      "metadata": {
        "id": "-tghClAdyfge",
        "colab_type": "code",
        "outputId": "461c0986-e0c1-475f-801e-805fafe624f3",
        "colab": {
          "base_uri": "https://localhost:8080/",
          "height": 34
        }
      },
      "source": [
        "trainmae =  mean_absolute_error(predtime,actual_time_train)\n",
        "trainmae"
      ],
      "execution_count": 553,
      "outputs": [
        {
          "output_type": "execute_result",
          "data": {
            "text/plain": [
              "2.920374782882207"
            ]
          },
          "metadata": {
            "tags": []
          },
          "execution_count": 553
        }
      ]
    },
    {
      "cell_type": "code",
      "metadata": {
        "id": "GPgl348l3e5S",
        "colab_type": "code",
        "colab": {}
      },
      "source": [
        "#we predict by looking for similar occurrence of the test trace sequence, if new sequence is seen predict unktime unkact\n",
        "predact = []\n",
        "predtime = []\n",
        "for index, row in testdata.iterrows():\n",
        "  subset = row['set']\n",
        "  if (row['set'] in setpred.keys()):\n",
        "    predact.append(setpred[row['set']][0])\n",
        "    predtime.append(setpred[row['set']][1])\n",
        "    \n",
        "  else:\n",
        "    predact.append(unkact)  \n",
        "    predtime.append(unktime) \n",
        "  \n",
        "  \n",
        "actualact = list(testdata['future'])\n"
      ],
      "execution_count": 0,
      "outputs": []
    },
    {
      "cell_type": "code",
      "metadata": {
        "id": "4EMHE82x3ldF",
        "colab_type": "code",
        "outputId": "61874599-e160-45a2-c916-cb2bc03815ac",
        "colab": {
          "base_uri": "https://localhost:8080/",
          "height": 34
        }
      },
      "source": [
        "testaccuracy = sum(1 for x,y in zip(predact,actualact) if x == y) / float(len(actualact))\n",
        "testaccuracy"
      ],
      "execution_count": 555,
      "outputs": [
        {
          "output_type": "execute_result",
          "data": {
            "text/plain": [
              "0.4322916666666667"
            ]
          },
          "metadata": {
            "tags": []
          },
          "execution_count": 555
        }
      ]
    },
    {
      "cell_type": "code",
      "metadata": {
        "id": "3i00bz3s30Ci",
        "colab_type": "code",
        "outputId": "d2730d93-9bfe-49ab-cf69-797e4057447f",
        "colab": {
          "base_uri": "https://localhost:8080/",
          "height": 34
        }
      },
      "source": [
        "testmae =  mean_absolute_error(predtime,actual_time_test)\n",
        "testmae"
      ],
      "execution_count": 556,
      "outputs": [
        {
          "output_type": "execute_result",
          "data": {
            "text/plain": [
              "2.727193903033617"
            ]
          },
          "metadata": {
            "tags": []
          },
          "execution_count": 556
        }
      ]
    },
    {
      "cell_type": "markdown",
      "metadata": {
        "id": "bunFpCZHmfRO",
        "colab_type": "text"
      },
      "source": [
        "                                        **SEQUENCE ABSTRACTION**"
      ]
    },
    {
      "cell_type": "code",
      "metadata": {
        "id": "XErDn4P1istI",
        "colab_type": "code",
        "colab": {}
      },
      "source": [
        "seqdic= {}"
      ],
      "execution_count": 0,
      "outputs": []
    },
    {
      "cell_type": "code",
      "metadata": {
        "id": "WMoOVy5LlB6k",
        "colab_type": "code",
        "colab": {}
      },
      "source": [
        "for index, row in data.iterrows():\n",
        "  if row['seq'] in seqdic.keys():\n",
        "    seqdic[row['seq']][0].append(row['future'])\n",
        "    seqdic[row['seq']][1].append(row['elap'])\n",
        "  else:\n",
        "    seqdic[row['seq']] = [[],[]]\n",
        "    seqdic[row['seq']][0].append(row['future'])\n",
        "    seqdic[row['seq']][1].append(row['elap'])\n",
        "\n",
        "    \n",
        "    "
      ],
      "execution_count": 0,
      "outputs": []
    },
    {
      "cell_type": "code",
      "metadata": {
        "id": "vicz98sEthND",
        "colab_type": "code",
        "colab": {}
      },
      "source": [
        "seqpred = {}"
      ],
      "execution_count": 0,
      "outputs": []
    },
    {
      "cell_type": "code",
      "metadata": {
        "id": "NvNF3NzOtima",
        "colab_type": "code",
        "colab": {}
      },
      "source": [
        "actunk = []\n",
        "timeunk = []\n",
        "for key, value in seqdic.items():\n",
        "  seqpred[key] = [max(set(value[0]), key = value[0].count), mean(value[1])]\n",
        "  actunk.append(seqpred[key][0])\n",
        "  timeunk.append(seqpred[key][1])"
      ],
      "execution_count": 0,
      "outputs": []
    },
    {
      "cell_type": "code",
      "metadata": {
        "id": "Y_bWiJ33Ki59",
        "colab_type": "code",
        "colab": {}
      },
      "source": [
        "unkact = max(actunk,key=actunk.count)"
      ],
      "execution_count": 0,
      "outputs": []
    },
    {
      "cell_type": "code",
      "metadata": {
        "id": "NjprS7dyKn2n",
        "colab_type": "code",
        "outputId": "d83eff2f-6ab1-47d8-b96e-6f051a92ae01",
        "colab": {
          "base_uri": "https://localhost:8080/",
          "height": 34
        }
      },
      "source": [
        "unktime = mean(timeunk)\n",
        "unktime"
      ],
      "execution_count": 562,
      "outputs": [
        {
          "output_type": "execute_result",
          "data": {
            "text/plain": [
              "4.234861576977737"
            ]
          },
          "metadata": {
            "tags": []
          },
          "execution_count": 562
        }
      ]
    },
    {
      "cell_type": "code",
      "metadata": {
        "id": "g9Gai1Ag0kea",
        "colab_type": "code",
        "colab": {}
      },
      "source": [
        "predact = []\n",
        "predtime = []\n",
        "for index, row in data.iterrows():\n",
        "  predact.append(seqpred[row['seq']][0])\n",
        "  predtime.append(seqpred[row['seq']][1])\n",
        "  \n",
        "  \n",
        "actualact = list(data['future'])\n"
      ],
      "execution_count": 0,
      "outputs": []
    },
    {
      "cell_type": "code",
      "metadata": {
        "id": "pjNr4By-t45D",
        "colab_type": "code",
        "outputId": "038cafed-b0c1-4b1d-b219-02cba54dfd0e",
        "colab": {
          "base_uri": "https://localhost:8080/",
          "height": 34
        }
      },
      "source": [
        "trainaccuracy = sum(1 for x,y in zip(predact,actualact) if x == y) / float(len(actualact))\n",
        "trainaccuracy"
      ],
      "execution_count": 564,
      "outputs": [
        {
          "output_type": "execute_result",
          "data": {
            "text/plain": [
              "0.6962190352020861"
            ]
          },
          "metadata": {
            "tags": []
          },
          "execution_count": 564
        }
      ]
    },
    {
      "cell_type": "code",
      "metadata": {
        "id": "cL04udJw1IvM",
        "colab_type": "code",
        "outputId": "a940661c-21c0-46e5-cdba-5099cad36bd1",
        "colab": {
          "base_uri": "https://localhost:8080/",
          "height": 34
        }
      },
      "source": [
        "trainmae =  mean_absolute_error(predtime,actual_time_train)\n",
        "trainmae"
      ],
      "execution_count": 565,
      "outputs": [
        {
          "output_type": "execute_result",
          "data": {
            "text/plain": [
              "3.006222994968061"
            ]
          },
          "metadata": {
            "tags": []
          },
          "execution_count": 565
        }
      ]
    },
    {
      "cell_type": "code",
      "metadata": {
        "id": "-l7BjYbbUNuT",
        "colab_type": "code",
        "outputId": "e6723dab-1b15-4c20-ef14-14a156c53935",
        "colab": {
          "base_uri": "https://localhost:8080/",
          "height": 34
        }
      },
      "source": [
        "len(predact)"
      ],
      "execution_count": 566,
      "outputs": [
        {
          "output_type": "execute_result",
          "data": {
            "text/plain": [
              "767"
            ]
          },
          "metadata": {
            "tags": []
          },
          "execution_count": 566
        }
      ]
    },
    {
      "cell_type": "code",
      "metadata": {
        "id": "tGf3w2t44FmE",
        "colab_type": "code",
        "colab": {}
      },
      "source": [
        "predact = []\n",
        "predtime = []\n",
        "for index, row in testdata.iterrows():\n",
        "  subset = row['seq']\n",
        "  if (row['seq'] in seqpred.keys()):\n",
        "    predact.append(seqpred[row['seq']][0])\n",
        "    predtime.append(seqpred[row['seq']][1])\n",
        "  else:\n",
        "    while(subset):\n",
        "      subset = subset[1:]\n",
        "      if (not subset):\n",
        "        predact.append(unkact)\n",
        "        break\n",
        "      elif (subset in seqpred.keys()):\n",
        "        predact.append(seqpred[subset][0])\n",
        "        break\n",
        "    predtime.append(unktime)\n",
        "      \n",
        "  \n",
        "actualact = list(testdata['future'])\n"
      ],
      "execution_count": 0,
      "outputs": []
    },
    {
      "cell_type": "code",
      "metadata": {
        "id": "ypmcInTS4Joo",
        "colab_type": "code",
        "outputId": "85ebf7a8-2e17-4692-eb36-446e8f66e212",
        "colab": {
          "base_uri": "https://localhost:8080/",
          "height": 34
        }
      },
      "source": [
        "testaccuracy = sum(1 for x,y in zip(predact,actualact) if x == y) / float(len(actualact))\n",
        "testaccuracy"
      ],
      "execution_count": 568,
      "outputs": [
        {
          "output_type": "execute_result",
          "data": {
            "text/plain": [
              "0.6770833333333334"
            ]
          },
          "metadata": {
            "tags": []
          },
          "execution_count": 568
        }
      ]
    },
    {
      "cell_type": "code",
      "metadata": {
        "id": "WitH1Q5K4MU2",
        "colab_type": "code",
        "outputId": "80954b93-fb59-4352-a5e5-8f6f44e33012",
        "colab": {
          "base_uri": "https://localhost:8080/",
          "height": 34
        }
      },
      "source": [
        "testmae =  mean_absolute_error(predtime,actual_time_test)\n",
        "testmae"
      ],
      "execution_count": 569,
      "outputs": [
        {
          "output_type": "execute_result",
          "data": {
            "text/plain": [
              "2.8473094685163622"
            ]
          },
          "metadata": {
            "tags": []
          },
          "execution_count": 569
        }
      ]
    },
    {
      "cell_type": "markdown",
      "metadata": {
        "id": "DNMTOp_XnGu_",
        "colab_type": "text"
      },
      "source": [
        "                                        **BAG ABSTRACTION**"
      ]
    },
    {
      "cell_type": "markdown",
      "metadata": {
        "id": "ujWKUD01ueVq",
        "colab_type": "text"
      },
      "source": [
        "check if bag is right or not like sequence matters or not a6b5c4 and b5a6c4"
      ]
    },
    {
      "cell_type": "code",
      "metadata": {
        "id": "e6kM4d5Gm4ZT",
        "colab_type": "code",
        "colab": {}
      },
      "source": [
        "bagdic= {}"
      ],
      "execution_count": 0,
      "outputs": []
    },
    {
      "cell_type": "code",
      "metadata": {
        "id": "baHcntdnm8sn",
        "colab_type": "code",
        "colab": {}
      },
      "source": [
        "for index, row in data.iterrows():\n",
        "  if row['bag'] in bagdic.keys():\n",
        "    bagdic[row['bag']][0].append(row['future'])\n",
        "    bagdic[row['bag']][1].append(row['elap'])\n",
        "  else:\n",
        "    bagdic[row['bag']] = [[],[]]\n",
        "    bagdic[row['bag']][0].append(row['future'])\n",
        "    bagdic[row['bag']][1].append(row['elap'])\n",
        "\n",
        "    \n",
        "    "
      ],
      "execution_count": 0,
      "outputs": []
    },
    {
      "cell_type": "code",
      "metadata": {
        "id": "MLf1DxxYnUL_",
        "colab_type": "code",
        "colab": {}
      },
      "source": [
        "bagpred = {}"
      ],
      "execution_count": 0,
      "outputs": []
    },
    {
      "cell_type": "code",
      "metadata": {
        "id": "w0pJItYbnW-0",
        "colab_type": "code",
        "colab": {}
      },
      "source": [
        "actunk = []\n",
        "timeunk = []\n",
        "for key, value in bagdic.items():\n",
        "  bagpred[key] = [max(set(value[0]), key = value[0].count), mean(value[1])]\n",
        "  actunk.append(bagpred[key][0])\n",
        "  timeunk.append(bagpred[key][1])"
      ],
      "execution_count": 0,
      "outputs": []
    },
    {
      "cell_type": "code",
      "metadata": {
        "id": "PfTmEY9oLXI6",
        "colab_type": "code",
        "colab": {}
      },
      "source": [
        "unkact = max(actunk,key=actunk.count)"
      ],
      "execution_count": 0,
      "outputs": []
    },
    {
      "cell_type": "code",
      "metadata": {
        "id": "urs-anKALbKN",
        "colab_type": "code",
        "outputId": "cd01077f-d45f-4b4c-d9e6-830cdeb489fa",
        "colab": {
          "base_uri": "https://localhost:8080/",
          "height": 34
        }
      },
      "source": [
        "unktime = mean(timeunk)\n",
        "unktime"
      ],
      "execution_count": 575,
      "outputs": [
        {
          "output_type": "execute_result",
          "data": {
            "text/plain": [
              "4.234861576977737"
            ]
          },
          "metadata": {
            "tags": []
          },
          "execution_count": 575
        }
      ]
    },
    {
      "cell_type": "code",
      "metadata": {
        "id": "HTtRuFdhtxxR",
        "colab_type": "code",
        "colab": {}
      },
      "source": [
        "predact = []\n",
        "predtime = []\n",
        "for index, row in data.iterrows():\n",
        "  predact.append(bagpred[row['bag']][0])\n",
        "  predtime.append(bagpred[row['bag']][1])\n",
        "  \n",
        "  \n",
        "actualact = list(data['future'])\n"
      ],
      "execution_count": 0,
      "outputs": []
    },
    {
      "cell_type": "code",
      "metadata": {
        "id": "TcSIwtf31SW2",
        "colab_type": "code",
        "outputId": "75d28098-6cc1-4437-fd3d-0016e24059a4",
        "colab": {
          "base_uri": "https://localhost:8080/",
          "height": 34
        }
      },
      "source": [
        "trainaccuracy = sum(1 for x,y in zip(predact,actualact) if x == y) / float(len(actualact))\n",
        "trainaccuracy"
      ],
      "execution_count": 577,
      "outputs": [
        {
          "output_type": "execute_result",
          "data": {
            "text/plain": [
              "0.6962190352020861"
            ]
          },
          "metadata": {
            "tags": []
          },
          "execution_count": 577
        }
      ]
    },
    {
      "cell_type": "code",
      "metadata": {
        "id": "DIdEpJro1Utr",
        "colab_type": "code",
        "outputId": "840ab5db-f751-4e2e-de29-70db0344b4a1",
        "colab": {
          "base_uri": "https://localhost:8080/",
          "height": 34
        }
      },
      "source": [
        "trainmae =  mean_absolute_error(predtime,actual_time_train)\n",
        "trainmae"
      ],
      "execution_count": 578,
      "outputs": [
        {
          "output_type": "execute_result",
          "data": {
            "text/plain": [
              "3.006222994968061"
            ]
          },
          "metadata": {
            "tags": []
          },
          "execution_count": 578
        }
      ]
    },
    {
      "cell_type": "code",
      "metadata": {
        "id": "gKWpzdfG4VLt",
        "colab_type": "code",
        "colab": {}
      },
      "source": [
        "predact = []\n",
        "predtime = []\n",
        "for index, row in testdata.iterrows():\n",
        "  subset = row['bag']\n",
        "  if (row['bag'] in bagpred.keys()):\n",
        "    predact.append(bagpred[row['bag']][0])\n",
        "    predtime.append(bagpred[row['bag']][1])\n",
        "  else:\n",
        "    while(subset):\n",
        "      subset = subset[1:]\n",
        "      if (not subset):\n",
        "        predact.append(unkact)\n",
        "        break\n",
        "      elif (subset in bagpred.keys()):\n",
        "        predact.append(bagpred[subset][0])\n",
        "        break\n",
        "    predtime.append(unktime)\n",
        "  \n",
        "actualact = list(testdata['future'])\n"
      ],
      "execution_count": 0,
      "outputs": []
    },
    {
      "cell_type": "code",
      "metadata": {
        "id": "8qrRKjEu1coY",
        "colab_type": "code",
        "outputId": "e27f36f4-1665-4177-8bb6-43095dd90057",
        "colab": {
          "base_uri": "https://localhost:8080/",
          "height": 34
        }
      },
      "source": [
        "testaccuracy = sum(1 for x,y in zip(predact,actualact) if x == y) / float(len(actualact))\n",
        "testaccuracy"
      ],
      "execution_count": 580,
      "outputs": [
        {
          "output_type": "execute_result",
          "data": {
            "text/plain": [
              "0.6770833333333334"
            ]
          },
          "metadata": {
            "tags": []
          },
          "execution_count": 580
        }
      ]
    },
    {
      "cell_type": "code",
      "metadata": {
        "id": "7KyWOoDK4bYN",
        "colab_type": "code",
        "outputId": "8fa83ed8-d356-4f3b-e6ce-b341e0bb9738",
        "colab": {
          "base_uri": "https://localhost:8080/",
          "height": 34
        }
      },
      "source": [
        "testmae =  mean_absolute_error(predtime,actual_time_test)\n",
        "testmae"
      ],
      "execution_count": 581,
      "outputs": [
        {
          "output_type": "execute_result",
          "data": {
            "text/plain": [
              "2.8473094685163622"
            ]
          },
          "metadata": {
            "tags": []
          },
          "execution_count": 581
        }
      ]
    }
  ]
}